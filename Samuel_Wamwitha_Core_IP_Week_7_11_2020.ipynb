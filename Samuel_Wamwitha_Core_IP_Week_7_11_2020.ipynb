{
  "nbformat": 4,
  "nbformat_minor": 0,
  "metadata": {
    "colab": {
      "name": "Samuel_Wamwitha_Core_IP_Week_7_11_2020.ipynb",
      "provenance": [],
      "collapsed_sections": [],
      "authorship_tag": "ABX9TyNRBheeOojzvkqFwNgnN57f",
      "include_colab_link": true
    },
    "kernelspec": {
      "name": "python3",
      "display_name": "Python 3"
    }
  },
  "cells": [
    {
      "cell_type": "markdown",
      "metadata": {
        "id": "view-in-github",
        "colab_type": "text"
      },
      "source": [
        "<a href=\"https://colab.research.google.com/github/Samuel-Wamwitha/House-Prices-Predictions/blob/master/Samuel_Wamwitha_Core_IP_Week_7_11_2020.ipynb\" target=\"_parent\"><img src=\"https://colab.research.google.com/assets/colab-badge.svg\" alt=\"Open In Colab\"/></a>"
      ]
    },
    {
      "cell_type": "markdown",
      "metadata": {
        "id": "L-Hde99hjrX6"
      },
      "source": [
        "# Supervised Learning Week 7 : Regression"
      ]
    },
    {
      "cell_type": "markdown",
      "metadata": {
        "id": "ivFG-lJ1kQEg"
      },
      "source": [
        "## 1. Defining the Question"
      ]
    },
    {
      "cell_type": "markdown",
      "metadata": {
        "id": "luBxl_whkgT5"
      },
      "source": [
        "### a) Specifying the Question"
      ]
    },
    {
      "cell_type": "markdown",
      "metadata": {
        "id": "Hd0vgLGVkoVF"
      },
      "source": [
        "Create a model that would allow Hass Consulting Company to accurately predict the sale of prices upon being provided with the predictor variables."
      ]
    },
    {
      "cell_type": "markdown",
      "metadata": {
        "id": "bi0I11bXknq0"
      },
      "source": [
        "### b) Defining the metrics for success"
      ]
    },
    {
      "cell_type": "markdown",
      "metadata": {
        "id": "HXUweYazkxWL"
      },
      "source": [
        "Building models and determine which one of the models will help the company to accurately predict the sale of prices."
      ]
    },
    {
      "cell_type": "markdown",
      "metadata": {
        "id": "SAnF-I9vkx3a"
      },
      "source": [
        "### c) Understanding the context"
      ]
    },
    {
      "cell_type": "markdown",
      "metadata": {
        "id": "4-b98LnrlCN0"
      },
      "source": [
        "Hass Consulting Company is a realestate leader with over 25 years of experience and they would like to know which factor affect prices of houses. These factors will help Hass company to predict house prices and set the prices of their houses appropriately."
      ]
    },
    {
      "cell_type": "markdown",
      "metadata": {
        "id": "plNiiE_blCrk"
      },
      "source": [
        "### d) Recording the Experimental Design"
      ]
    },
    {
      "cell_type": "markdown",
      "metadata": {
        "id": "zsjNRkWTlMwQ"
      },
      "source": [
        "\n",
        "\n",
        "1.   Perform EDA\n",
        "2.   Check for Multicollinearity\n",
        "3.   Build the Models\n",
        "4.   Create residual plots\n",
        "5.   Assess Heteroscedasticity\n",
        "\n"
      ]
    },
    {
      "cell_type": "markdown",
      "metadata": {
        "id": "tpM_IhzdlNH5"
      },
      "source": [
        "### e) Data Revalence"
      ]
    },
    {
      "cell_type": "markdown",
      "metadata": {
        "id": "o4fLjDUzlTx0"
      },
      "source": [
        "The data was about prices of the houses and features that have influence on how houses are priced. This was relevant to to Hass Consulting Company, a real estate company that want to study the factors that affect housing prices."
      ]
    },
    {
      "cell_type": "markdown",
      "metadata": {
        "id": "6qFTrss2lZoH"
      },
      "source": [
        "## 2. Reading the Data"
      ]
    },
    {
      "cell_type": "code",
      "metadata": {
        "id": "FEl4GisFjpC5"
      },
      "source": [
        "# Loading the dataset\n",
        "import pandas as pd\n",
        "import numpy as np\n",
        "import seaborn as sns\n",
        "\n",
        "house = pd.read_csv('/content/Independent Project Week 7 - house_data.csv')"
      ],
      "execution_count": 301,
      "outputs": []
    },
    {
      "cell_type": "markdown",
      "metadata": {
        "id": "YxIPpuDTlnB3"
      },
      "source": [
        "## 3. Checking the Data"
      ]
    },
    {
      "cell_type": "code",
      "metadata": {
        "id": "fsdLyKovlweQ",
        "colab": {
          "base_uri": "https://localhost:8080/"
        },
        "outputId": "6724fc69-b30a-40c5-e94e-34c03c6339e6"
      },
      "source": [
        "# Determining the number of records\n",
        "house.shape"
      ],
      "execution_count": 302,
      "outputs": [
        {
          "output_type": "execute_result",
          "data": {
            "text/plain": [
              "(21613, 20)"
            ]
          },
          "metadata": {
            "tags": []
          },
          "execution_count": 302
        }
      ]
    },
    {
      "cell_type": "code",
      "metadata": {
        "id": "UoXfpYZwOWhE",
        "colab": {
          "base_uri": "https://localhost:8080/",
          "height": 218
        },
        "outputId": "fd5a53d9-16f9-4d3b-81d6-b770af9d35de"
      },
      "source": [
        "# Previewing the top of the dataset\n",
        "house.head()"
      ],
      "execution_count": 303,
      "outputs": [
        {
          "output_type": "execute_result",
          "data": {
            "text/html": [
              "<div>\n",
              "<style scoped>\n",
              "    .dataframe tbody tr th:only-of-type {\n",
              "        vertical-align: middle;\n",
              "    }\n",
              "\n",
              "    .dataframe tbody tr th {\n",
              "        vertical-align: top;\n",
              "    }\n",
              "\n",
              "    .dataframe thead th {\n",
              "        text-align: right;\n",
              "    }\n",
              "</style>\n",
              "<table border=\"1\" class=\"dataframe\">\n",
              "  <thead>\n",
              "    <tr style=\"text-align: right;\">\n",
              "      <th></th>\n",
              "      <th>id</th>\n",
              "      <th>price</th>\n",
              "      <th>bedrooms</th>\n",
              "      <th>bathrooms</th>\n",
              "      <th>sqft_living</th>\n",
              "      <th>sqft_lot</th>\n",
              "      <th>floors</th>\n",
              "      <th>waterfront</th>\n",
              "      <th>view</th>\n",
              "      <th>condition</th>\n",
              "      <th>grade</th>\n",
              "      <th>sqft_above</th>\n",
              "      <th>sqft_basement</th>\n",
              "      <th>yr_built</th>\n",
              "      <th>yr_renovated</th>\n",
              "      <th>zipcode</th>\n",
              "      <th>lat</th>\n",
              "      <th>long</th>\n",
              "      <th>sqft_living15</th>\n",
              "      <th>sqft_lot15</th>\n",
              "    </tr>\n",
              "  </thead>\n",
              "  <tbody>\n",
              "    <tr>\n",
              "      <th>0</th>\n",
              "      <td>7129300520</td>\n",
              "      <td>221900.0</td>\n",
              "      <td>3</td>\n",
              "      <td>1.00</td>\n",
              "      <td>1180</td>\n",
              "      <td>5650</td>\n",
              "      <td>1.0</td>\n",
              "      <td>0</td>\n",
              "      <td>0</td>\n",
              "      <td>3</td>\n",
              "      <td>7</td>\n",
              "      <td>1180</td>\n",
              "      <td>0</td>\n",
              "      <td>1955</td>\n",
              "      <td>0</td>\n",
              "      <td>98178</td>\n",
              "      <td>47.5112</td>\n",
              "      <td>-122.257</td>\n",
              "      <td>1340</td>\n",
              "      <td>5650</td>\n",
              "    </tr>\n",
              "    <tr>\n",
              "      <th>1</th>\n",
              "      <td>6414100192</td>\n",
              "      <td>538000.0</td>\n",
              "      <td>3</td>\n",
              "      <td>2.25</td>\n",
              "      <td>2570</td>\n",
              "      <td>7242</td>\n",
              "      <td>2.0</td>\n",
              "      <td>0</td>\n",
              "      <td>0</td>\n",
              "      <td>3</td>\n",
              "      <td>7</td>\n",
              "      <td>2170</td>\n",
              "      <td>400</td>\n",
              "      <td>1951</td>\n",
              "      <td>1991</td>\n",
              "      <td>98125</td>\n",
              "      <td>47.7210</td>\n",
              "      <td>-122.319</td>\n",
              "      <td>1690</td>\n",
              "      <td>7639</td>\n",
              "    </tr>\n",
              "    <tr>\n",
              "      <th>2</th>\n",
              "      <td>5631500400</td>\n",
              "      <td>180000.0</td>\n",
              "      <td>2</td>\n",
              "      <td>1.00</td>\n",
              "      <td>770</td>\n",
              "      <td>10000</td>\n",
              "      <td>1.0</td>\n",
              "      <td>0</td>\n",
              "      <td>0</td>\n",
              "      <td>3</td>\n",
              "      <td>6</td>\n",
              "      <td>770</td>\n",
              "      <td>0</td>\n",
              "      <td>1933</td>\n",
              "      <td>0</td>\n",
              "      <td>98028</td>\n",
              "      <td>47.7379</td>\n",
              "      <td>-122.233</td>\n",
              "      <td>2720</td>\n",
              "      <td>8062</td>\n",
              "    </tr>\n",
              "    <tr>\n",
              "      <th>3</th>\n",
              "      <td>2487200875</td>\n",
              "      <td>604000.0</td>\n",
              "      <td>4</td>\n",
              "      <td>3.00</td>\n",
              "      <td>1960</td>\n",
              "      <td>5000</td>\n",
              "      <td>1.0</td>\n",
              "      <td>0</td>\n",
              "      <td>0</td>\n",
              "      <td>5</td>\n",
              "      <td>7</td>\n",
              "      <td>1050</td>\n",
              "      <td>910</td>\n",
              "      <td>1965</td>\n",
              "      <td>0</td>\n",
              "      <td>98136</td>\n",
              "      <td>47.5208</td>\n",
              "      <td>-122.393</td>\n",
              "      <td>1360</td>\n",
              "      <td>5000</td>\n",
              "    </tr>\n",
              "    <tr>\n",
              "      <th>4</th>\n",
              "      <td>1954400510</td>\n",
              "      <td>510000.0</td>\n",
              "      <td>3</td>\n",
              "      <td>2.00</td>\n",
              "      <td>1680</td>\n",
              "      <td>8080</td>\n",
              "      <td>1.0</td>\n",
              "      <td>0</td>\n",
              "      <td>0</td>\n",
              "      <td>3</td>\n",
              "      <td>8</td>\n",
              "      <td>1680</td>\n",
              "      <td>0</td>\n",
              "      <td>1987</td>\n",
              "      <td>0</td>\n",
              "      <td>98074</td>\n",
              "      <td>47.6168</td>\n",
              "      <td>-122.045</td>\n",
              "      <td>1800</td>\n",
              "      <td>7503</td>\n",
              "    </tr>\n",
              "  </tbody>\n",
              "</table>\n",
              "</div>"
            ],
            "text/plain": [
              "           id     price  bedrooms  ...     long  sqft_living15  sqft_lot15\n",
              "0  7129300520  221900.0         3  ... -122.257           1340        5650\n",
              "1  6414100192  538000.0         3  ... -122.319           1690        7639\n",
              "2  5631500400  180000.0         2  ... -122.233           2720        8062\n",
              "3  2487200875  604000.0         4  ... -122.393           1360        5000\n",
              "4  1954400510  510000.0         3  ... -122.045           1800        7503\n",
              "\n",
              "[5 rows x 20 columns]"
            ]
          },
          "metadata": {
            "tags": []
          },
          "execution_count": 303
        }
      ]
    },
    {
      "cell_type": "code",
      "metadata": {
        "id": "5sc30f0oOa86",
        "colab": {
          "base_uri": "https://localhost:8080/",
          "height": 218
        },
        "outputId": "caa566a0-3b39-4a74-fb10-d643e11050a7"
      },
      "source": [
        "# Previewing the bottom of our dataset\n",
        "house.tail()"
      ],
      "execution_count": 304,
      "outputs": [
        {
          "output_type": "execute_result",
          "data": {
            "text/html": [
              "<div>\n",
              "<style scoped>\n",
              "    .dataframe tbody tr th:only-of-type {\n",
              "        vertical-align: middle;\n",
              "    }\n",
              "\n",
              "    .dataframe tbody tr th {\n",
              "        vertical-align: top;\n",
              "    }\n",
              "\n",
              "    .dataframe thead th {\n",
              "        text-align: right;\n",
              "    }\n",
              "</style>\n",
              "<table border=\"1\" class=\"dataframe\">\n",
              "  <thead>\n",
              "    <tr style=\"text-align: right;\">\n",
              "      <th></th>\n",
              "      <th>id</th>\n",
              "      <th>price</th>\n",
              "      <th>bedrooms</th>\n",
              "      <th>bathrooms</th>\n",
              "      <th>sqft_living</th>\n",
              "      <th>sqft_lot</th>\n",
              "      <th>floors</th>\n",
              "      <th>waterfront</th>\n",
              "      <th>view</th>\n",
              "      <th>condition</th>\n",
              "      <th>grade</th>\n",
              "      <th>sqft_above</th>\n",
              "      <th>sqft_basement</th>\n",
              "      <th>yr_built</th>\n",
              "      <th>yr_renovated</th>\n",
              "      <th>zipcode</th>\n",
              "      <th>lat</th>\n",
              "      <th>long</th>\n",
              "      <th>sqft_living15</th>\n",
              "      <th>sqft_lot15</th>\n",
              "    </tr>\n",
              "  </thead>\n",
              "  <tbody>\n",
              "    <tr>\n",
              "      <th>21608</th>\n",
              "      <td>263000018</td>\n",
              "      <td>360000.0</td>\n",
              "      <td>3</td>\n",
              "      <td>2.50</td>\n",
              "      <td>1530</td>\n",
              "      <td>1131</td>\n",
              "      <td>3.0</td>\n",
              "      <td>0</td>\n",
              "      <td>0</td>\n",
              "      <td>3</td>\n",
              "      <td>8</td>\n",
              "      <td>1530</td>\n",
              "      <td>0</td>\n",
              "      <td>2009</td>\n",
              "      <td>0</td>\n",
              "      <td>98103</td>\n",
              "      <td>47.6993</td>\n",
              "      <td>-122.346</td>\n",
              "      <td>1530</td>\n",
              "      <td>1509</td>\n",
              "    </tr>\n",
              "    <tr>\n",
              "      <th>21609</th>\n",
              "      <td>6600060120</td>\n",
              "      <td>400000.0</td>\n",
              "      <td>4</td>\n",
              "      <td>2.50</td>\n",
              "      <td>2310</td>\n",
              "      <td>5813</td>\n",
              "      <td>2.0</td>\n",
              "      <td>0</td>\n",
              "      <td>0</td>\n",
              "      <td>3</td>\n",
              "      <td>8</td>\n",
              "      <td>2310</td>\n",
              "      <td>0</td>\n",
              "      <td>2014</td>\n",
              "      <td>0</td>\n",
              "      <td>98146</td>\n",
              "      <td>47.5107</td>\n",
              "      <td>-122.362</td>\n",
              "      <td>1830</td>\n",
              "      <td>7200</td>\n",
              "    </tr>\n",
              "    <tr>\n",
              "      <th>21610</th>\n",
              "      <td>1523300141</td>\n",
              "      <td>402101.0</td>\n",
              "      <td>2</td>\n",
              "      <td>0.75</td>\n",
              "      <td>1020</td>\n",
              "      <td>1350</td>\n",
              "      <td>2.0</td>\n",
              "      <td>0</td>\n",
              "      <td>0</td>\n",
              "      <td>3</td>\n",
              "      <td>7</td>\n",
              "      <td>1020</td>\n",
              "      <td>0</td>\n",
              "      <td>2009</td>\n",
              "      <td>0</td>\n",
              "      <td>98144</td>\n",
              "      <td>47.5944</td>\n",
              "      <td>-122.299</td>\n",
              "      <td>1020</td>\n",
              "      <td>2007</td>\n",
              "    </tr>\n",
              "    <tr>\n",
              "      <th>21611</th>\n",
              "      <td>291310100</td>\n",
              "      <td>400000.0</td>\n",
              "      <td>3</td>\n",
              "      <td>2.50</td>\n",
              "      <td>1600</td>\n",
              "      <td>2388</td>\n",
              "      <td>2.0</td>\n",
              "      <td>0</td>\n",
              "      <td>0</td>\n",
              "      <td>3</td>\n",
              "      <td>8</td>\n",
              "      <td>1600</td>\n",
              "      <td>0</td>\n",
              "      <td>2004</td>\n",
              "      <td>0</td>\n",
              "      <td>98027</td>\n",
              "      <td>47.5345</td>\n",
              "      <td>-122.069</td>\n",
              "      <td>1410</td>\n",
              "      <td>1287</td>\n",
              "    </tr>\n",
              "    <tr>\n",
              "      <th>21612</th>\n",
              "      <td>1523300157</td>\n",
              "      <td>325000.0</td>\n",
              "      <td>2</td>\n",
              "      <td>0.75</td>\n",
              "      <td>1020</td>\n",
              "      <td>1076</td>\n",
              "      <td>2.0</td>\n",
              "      <td>0</td>\n",
              "      <td>0</td>\n",
              "      <td>3</td>\n",
              "      <td>7</td>\n",
              "      <td>1020</td>\n",
              "      <td>0</td>\n",
              "      <td>2008</td>\n",
              "      <td>0</td>\n",
              "      <td>98144</td>\n",
              "      <td>47.5941</td>\n",
              "      <td>-122.299</td>\n",
              "      <td>1020</td>\n",
              "      <td>1357</td>\n",
              "    </tr>\n",
              "  </tbody>\n",
              "</table>\n",
              "</div>"
            ],
            "text/plain": [
              "               id     price  bedrooms  ...     long  sqft_living15  sqft_lot15\n",
              "21608   263000018  360000.0         3  ... -122.346           1530        1509\n",
              "21609  6600060120  400000.0         4  ... -122.362           1830        7200\n",
              "21610  1523300141  402101.0         2  ... -122.299           1020        2007\n",
              "21611   291310100  400000.0         3  ... -122.069           1410        1287\n",
              "21612  1523300157  325000.0         2  ... -122.299           1020        1357\n",
              "\n",
              "[5 rows x 20 columns]"
            ]
          },
          "metadata": {
            "tags": []
          },
          "execution_count": 304
        }
      ]
    },
    {
      "cell_type": "code",
      "metadata": {
        "id": "BQ5glxmcOiQ6",
        "colab": {
          "base_uri": "https://localhost:8080/"
        },
        "outputId": "26fdcfa0-83d8-4b96-9001-4a9226f1b290"
      },
      "source": [
        "# Checking whether each column has an appropriate datatype\n",
        "house.dtypes"
      ],
      "execution_count": 305,
      "outputs": [
        {
          "output_type": "execute_result",
          "data": {
            "text/plain": [
              "id                 int64\n",
              "price            float64\n",
              "bedrooms           int64\n",
              "bathrooms        float64\n",
              "sqft_living        int64\n",
              "sqft_lot           int64\n",
              "floors           float64\n",
              "waterfront         int64\n",
              "view               int64\n",
              "condition          int64\n",
              "grade              int64\n",
              "sqft_above         int64\n",
              "sqft_basement      int64\n",
              "yr_built           int64\n",
              "yr_renovated       int64\n",
              "zipcode            int64\n",
              "lat              float64\n",
              "long             float64\n",
              "sqft_living15      int64\n",
              "sqft_lot15         int64\n",
              "dtype: object"
            ]
          },
          "metadata": {
            "tags": []
          },
          "execution_count": 305
        }
      ]
    },
    {
      "cell_type": "code",
      "metadata": {
        "id": "HaW2LAmZOnwE",
        "colab": {
          "base_uri": "https://localhost:8080/"
        },
        "outputId": "073809b6-73e7-47c5-d683-4fd49d41e42a"
      },
      "source": [
        "# Checking for duplicates\n",
        "house.duplicated().sum()"
      ],
      "execution_count": 306,
      "outputs": [
        {
          "output_type": "execute_result",
          "data": {
            "text/plain": [
              "3"
            ]
          },
          "metadata": {
            "tags": []
          },
          "execution_count": 306
        }
      ]
    },
    {
      "cell_type": "code",
      "metadata": {
        "colab": {
          "base_uri": "https://localhost:8080/"
        },
        "id": "uzPOvjPNtuYR",
        "outputId": "f9673aef-4899-46e1-c2ba-921a08d69ce5"
      },
      "source": [
        "# Checking the columns\n",
        "house.columns"
      ],
      "execution_count": 307,
      "outputs": [
        {
          "output_type": "execute_result",
          "data": {
            "text/plain": [
              "Index(['id', 'price', 'bedrooms', 'bathrooms', 'sqft_living', 'sqft_lot',\n",
              "       'floors', 'waterfront', 'view', 'condition', 'grade', 'sqft_above',\n",
              "       'sqft_basement', 'yr_built', 'yr_renovated', 'zipcode', 'lat', 'long',\n",
              "       'sqft_living15', 'sqft_lot15'],\n",
              "      dtype='object')"
            ]
          },
          "metadata": {
            "tags": []
          },
          "execution_count": 307
        }
      ]
    },
    {
      "cell_type": "markdown",
      "metadata": {
        "id": "q0SFvBwMlxFk"
      },
      "source": [
        "## 4. Tidying the Dataset"
      ]
    },
    {
      "cell_type": "code",
      "metadata": {
        "id": "7kpFFU8GyvfC"
      },
      "source": [
        "prices = house.drop(['id', 'yr_built', 'yr_renovated', 'zipcode', 'lat', 'long'], axis = 1)"
      ],
      "execution_count": 308,
      "outputs": []
    },
    {
      "cell_type": "code",
      "metadata": {
        "colab": {
          "base_uri": "https://localhost:8080/",
          "height": 218
        },
        "id": "T0phB9d6zjol",
        "outputId": "1f789707-f362-4b11-ad49-ada22d0453c8"
      },
      "source": [
        "prices.head()"
      ],
      "execution_count": 309,
      "outputs": [
        {
          "output_type": "execute_result",
          "data": {
            "text/html": [
              "<div>\n",
              "<style scoped>\n",
              "    .dataframe tbody tr th:only-of-type {\n",
              "        vertical-align: middle;\n",
              "    }\n",
              "\n",
              "    .dataframe tbody tr th {\n",
              "        vertical-align: top;\n",
              "    }\n",
              "\n",
              "    .dataframe thead th {\n",
              "        text-align: right;\n",
              "    }\n",
              "</style>\n",
              "<table border=\"1\" class=\"dataframe\">\n",
              "  <thead>\n",
              "    <tr style=\"text-align: right;\">\n",
              "      <th></th>\n",
              "      <th>price</th>\n",
              "      <th>bedrooms</th>\n",
              "      <th>bathrooms</th>\n",
              "      <th>sqft_living</th>\n",
              "      <th>sqft_lot</th>\n",
              "      <th>floors</th>\n",
              "      <th>waterfront</th>\n",
              "      <th>view</th>\n",
              "      <th>condition</th>\n",
              "      <th>grade</th>\n",
              "      <th>sqft_above</th>\n",
              "      <th>sqft_basement</th>\n",
              "      <th>sqft_living15</th>\n",
              "      <th>sqft_lot15</th>\n",
              "    </tr>\n",
              "  </thead>\n",
              "  <tbody>\n",
              "    <tr>\n",
              "      <th>0</th>\n",
              "      <td>221900.0</td>\n",
              "      <td>3</td>\n",
              "      <td>1.00</td>\n",
              "      <td>1180</td>\n",
              "      <td>5650</td>\n",
              "      <td>1.0</td>\n",
              "      <td>0</td>\n",
              "      <td>0</td>\n",
              "      <td>3</td>\n",
              "      <td>7</td>\n",
              "      <td>1180</td>\n",
              "      <td>0</td>\n",
              "      <td>1340</td>\n",
              "      <td>5650</td>\n",
              "    </tr>\n",
              "    <tr>\n",
              "      <th>1</th>\n",
              "      <td>538000.0</td>\n",
              "      <td>3</td>\n",
              "      <td>2.25</td>\n",
              "      <td>2570</td>\n",
              "      <td>7242</td>\n",
              "      <td>2.0</td>\n",
              "      <td>0</td>\n",
              "      <td>0</td>\n",
              "      <td>3</td>\n",
              "      <td>7</td>\n",
              "      <td>2170</td>\n",
              "      <td>400</td>\n",
              "      <td>1690</td>\n",
              "      <td>7639</td>\n",
              "    </tr>\n",
              "    <tr>\n",
              "      <th>2</th>\n",
              "      <td>180000.0</td>\n",
              "      <td>2</td>\n",
              "      <td>1.00</td>\n",
              "      <td>770</td>\n",
              "      <td>10000</td>\n",
              "      <td>1.0</td>\n",
              "      <td>0</td>\n",
              "      <td>0</td>\n",
              "      <td>3</td>\n",
              "      <td>6</td>\n",
              "      <td>770</td>\n",
              "      <td>0</td>\n",
              "      <td>2720</td>\n",
              "      <td>8062</td>\n",
              "    </tr>\n",
              "    <tr>\n",
              "      <th>3</th>\n",
              "      <td>604000.0</td>\n",
              "      <td>4</td>\n",
              "      <td>3.00</td>\n",
              "      <td>1960</td>\n",
              "      <td>5000</td>\n",
              "      <td>1.0</td>\n",
              "      <td>0</td>\n",
              "      <td>0</td>\n",
              "      <td>5</td>\n",
              "      <td>7</td>\n",
              "      <td>1050</td>\n",
              "      <td>910</td>\n",
              "      <td>1360</td>\n",
              "      <td>5000</td>\n",
              "    </tr>\n",
              "    <tr>\n",
              "      <th>4</th>\n",
              "      <td>510000.0</td>\n",
              "      <td>3</td>\n",
              "      <td>2.00</td>\n",
              "      <td>1680</td>\n",
              "      <td>8080</td>\n",
              "      <td>1.0</td>\n",
              "      <td>0</td>\n",
              "      <td>0</td>\n",
              "      <td>3</td>\n",
              "      <td>8</td>\n",
              "      <td>1680</td>\n",
              "      <td>0</td>\n",
              "      <td>1800</td>\n",
              "      <td>7503</td>\n",
              "    </tr>\n",
              "  </tbody>\n",
              "</table>\n",
              "</div>"
            ],
            "text/plain": [
              "      price  bedrooms  bathrooms  ...  sqft_basement  sqft_living15  sqft_lot15\n",
              "0  221900.0         3       1.00  ...              0           1340        5650\n",
              "1  538000.0         3       2.25  ...            400           1690        7639\n",
              "2  180000.0         2       1.00  ...              0           2720        8062\n",
              "3  604000.0         4       3.00  ...            910           1360        5000\n",
              "4  510000.0         3       2.00  ...              0           1800        7503\n",
              "\n",
              "[5 rows x 14 columns]"
            ]
          },
          "metadata": {
            "tags": []
          },
          "execution_count": 309
        }
      ]
    },
    {
      "cell_type": "code",
      "metadata": {
        "id": "OK2FiJt7xIjW"
      },
      "source": [
        "# Removing duplicates\n",
        "prices.drop_duplicates(inplace = True)"
      ],
      "execution_count": 310,
      "outputs": []
    },
    {
      "cell_type": "code",
      "metadata": {
        "id": "JWmGR1CuO7bD"
      },
      "source": [
        "# Changing datatypes of bathrooms column\n",
        "prices['bathrooms'] = prices.bathrooms.astype(int)"
      ],
      "execution_count": 311,
      "outputs": []
    },
    {
      "cell_type": "code",
      "metadata": {
        "id": "v72zt1fsv_cY"
      },
      "source": [
        "# Changing datatypes of floors column\n",
        "prices['floors'] = prices.floors.astype(int)"
      ],
      "execution_count": 312,
      "outputs": []
    },
    {
      "cell_type": "code",
      "metadata": {
        "colab": {
          "base_uri": "https://localhost:8080/"
        },
        "id": "Xe9uAaHyv-Sq",
        "outputId": "ff9ae1df-8138-41d9-8f50-b62c8dd377fc"
      },
      "source": [
        "# Checking the unique values of bathrooms column\n",
        "prices.bathrooms.unique()"
      ],
      "execution_count": 313,
      "outputs": [
        {
          "output_type": "execute_result",
          "data": {
            "text/plain": [
              "array([1, 2, 3, 4, 0, 5, 6, 8, 7])"
            ]
          },
          "metadata": {
            "tags": []
          },
          "execution_count": 313
        }
      ]
    },
    {
      "cell_type": "code",
      "metadata": {
        "colab": {
          "base_uri": "https://localhost:8080/"
        },
        "id": "gXSr1GWEwn1s",
        "outputId": "f8da5ec6-fde8-44b1-c2e5-4fce4705cdbe"
      },
      "source": [
        "# Checking the unique values of bedrooms column\n",
        "prices.bedrooms.unique()"
      ],
      "execution_count": 314,
      "outputs": [
        {
          "output_type": "execute_result",
          "data": {
            "text/plain": [
              "array([ 3,  2,  4,  5,  1,  6,  7,  0,  8,  9, 11, 10, 33])"
            ]
          },
          "metadata": {
            "tags": []
          },
          "execution_count": 314
        }
      ]
    },
    {
      "cell_type": "code",
      "metadata": {
        "id": "zEG8oSF7l3NV",
        "colab": {
          "base_uri": "https://localhost:8080/",
          "height": 297
        },
        "outputId": "775b5812-23f2-4ab9-de69-d2f8956137d7"
      },
      "source": [
        "# Checking for Outliers in bedrooms column\n",
        "sns.boxplot(prices.bedrooms)"
      ],
      "execution_count": 315,
      "outputs": [
        {
          "output_type": "execute_result",
          "data": {
            "text/plain": [
              "<matplotlib.axes._subplots.AxesSubplot at 0x7fab458b35c0>"
            ]
          },
          "metadata": {
            "tags": []
          },
          "execution_count": 315
        },
        {
          "output_type": "display_data",
          "data": {
            "image/png": "[encoded data removed]",
            "text/plain": [
              "<Figure size 432x288 with 1 Axes>"
            ]
          },
          "metadata": {
            "tags": [],
            "needs_background": "light"
          }
        }
      ]
    },
    {
      "cell_type": "code",
      "metadata": {
        "colab": {
          "base_uri": "https://localhost:8080/",
          "height": 297
        },
        "id": "Rn8TzLR3yQ_0",
        "outputId": "108d1d3f-f79b-406f-bf3e-a4bb06a0e49c"
      },
      "source": [
        "# Checking for Outliers in bedrooms column\n",
        "sns.boxplot(prices.bathrooms)"
      ],
      "execution_count": 316,
      "outputs": [
        {
          "output_type": "execute_result",
          "data": {
            "text/plain": [
              "<matplotlib.axes._subplots.AxesSubplot at 0x7fab4587dc50>"
            ]
          },
          "metadata": {
            "tags": []
          },
          "execution_count": 316
        },
        {
          "output_type": "display_data",
          "data": {
            "image/png": "[encoded data removed]",
            "text/plain": [
              "<Figure size 432x288 with 1 Axes>"
            ]
          },
          "metadata": {
            "tags": [],
            "needs_background": "light"
          }
        }
      ]
    },
    {
      "cell_type": "code",
      "metadata": {
        "id": "_Km-uXHCzh54"
      },
      "source": [
        "# Dealing with outliers in bedrooms column\n",
        "bd, bd1 = np.percentile(prices.bedrooms, [25, 75]) \n",
        "iqr = bd1 - bd\n",
        "upper_bound = bd1 + (1.5 * iqr)\n",
        "lower_bound = bd - (1.5 * iqr)\n",
        "prices = prices[~((prices.bedrooms>upper_bound) | (prices.bedrooms<lower_bound))]"
      ],
      "execution_count": 317,
      "outputs": []
    },
    {
      "cell_type": "code",
      "metadata": {
        "colab": {
          "base_uri": "https://localhost:8080/",
          "height": 297
        },
        "id": "JXu-_B_p1ehy",
        "outputId": "4c1e8a49-524c-404c-b704-8b4b3c214625"
      },
      "source": [
        "sns.boxplot(prices.bedrooms)"
      ],
      "execution_count": 318,
      "outputs": [
        {
          "output_type": "execute_result",
          "data": {
            "text/plain": [
              "<matplotlib.axes._subplots.AxesSubplot at 0x7fab457f3358>"
            ]
          },
          "metadata": {
            "tags": []
          },
          "execution_count": 318
        },
        {
          "output_type": "display_data",
          "data": {
            "image/png": "[encoded data removed]",
            "text/plain": [
              "<Figure size 432x288 with 1 Axes>"
            ]
          },
          "metadata": {
            "tags": [],
            "needs_background": "light"
          }
        }
      ]
    },
    {
      "cell_type": "code",
      "metadata": {
        "id": "2o_Kb07TO0KY"
      },
      "source": [
        "# Dealing with outliers in bathrooms column\n",
        "bt, bt1 = np.percentile(prices.bathrooms, [25, 75]) \n",
        "iqr = bt1 - bt\n",
        "upper_bound = bt1 + (1.5 * iqr)\n",
        "lower_bound = bt - (1.5 * iqr)\n",
        "prices = prices[~((prices.bathrooms>upper_bound) | (prices.bathrooms<lower_bound))]"
      ],
      "execution_count": 319,
      "outputs": []
    },
    {
      "cell_type": "code",
      "metadata": {
        "colab": {
          "base_uri": "https://localhost:8080/",
          "height": 297
        },
        "id": "x4z_lTI32Txb",
        "outputId": "8c12c142-f2db-4058-b6ba-bfca6415d717"
      },
      "source": [
        "sns.boxplot(prices.bathrooms)"
      ],
      "execution_count": 320,
      "outputs": [
        {
          "output_type": "execute_result",
          "data": {
            "text/plain": [
              "<matplotlib.axes._subplots.AxesSubplot at 0x7fab4575e908>"
            ]
          },
          "metadata": {
            "tags": []
          },
          "execution_count": 320
        },
        {
          "output_type": "display_data",
          "data": {
            "image/png": "[encoded data removed]",
            "text/plain": [
              "<Figure size 432x288 with 1 Axes>"
            ]
          },
          "metadata": {
            "tags": [],
            "needs_background": "light"
          }
        }
      ]
    },
    {
      "cell_type": "code",
      "metadata": {
        "id": "cN5IlKbvOvSY",
        "colab": {
          "base_uri": "https://localhost:8080/"
        },
        "outputId": "478e9e3e-705b-4367-c9ff-d8e850f74d31"
      },
      "source": [
        "# Checking for missing values\n",
        "prices.isnull().sum()"
      ],
      "execution_count": 321,
      "outputs": [
        {
          "output_type": "execute_result",
          "data": {
            "text/plain": [
              "price            0\n",
              "bedrooms         0\n",
              "bathrooms        0\n",
              "sqft_living      0\n",
              "sqft_lot         0\n",
              "floors           0\n",
              "waterfront       0\n",
              "view             0\n",
              "condition        0\n",
              "grade            0\n",
              "sqft_above       0\n",
              "sqft_basement    0\n",
              "sqft_living15    0\n",
              "sqft_lot15       0\n",
              "dtype: int64"
            ]
          },
          "metadata": {
            "tags": []
          },
          "execution_count": 321
        }
      ]
    },
    {
      "cell_type": "code",
      "metadata": {
        "colab": {
          "base_uri": "https://localhost:8080/",
          "height": 218
        },
        "id": "7IHcSdEY2rrN",
        "outputId": "062cc55c-780a-487d-a245-9a2cb3e5c030"
      },
      "source": [
        "prices.head()"
      ],
      "execution_count": 322,
      "outputs": [
        {
          "output_type": "execute_result",
          "data": {
            "text/html": [
              "<div>\n",
              "<style scoped>\n",
              "    .dataframe tbody tr th:only-of-type {\n",
              "        vertical-align: middle;\n",
              "    }\n",
              "\n",
              "    .dataframe tbody tr th {\n",
              "        vertical-align: top;\n",
              "    }\n",
              "\n",
              "    .dataframe thead th {\n",
              "        text-align: right;\n",
              "    }\n",
              "</style>\n",
              "<table border=\"1\" class=\"dataframe\">\n",
              "  <thead>\n",
              "    <tr style=\"text-align: right;\">\n",
              "      <th></th>\n",
              "      <th>price</th>\n",
              "      <th>bedrooms</th>\n",
              "      <th>bathrooms</th>\n",
              "      <th>sqft_living</th>\n",
              "      <th>sqft_lot</th>\n",
              "      <th>floors</th>\n",
              "      <th>waterfront</th>\n",
              "      <th>view</th>\n",
              "      <th>condition</th>\n",
              "      <th>grade</th>\n",
              "      <th>sqft_above</th>\n",
              "      <th>sqft_basement</th>\n",
              "      <th>sqft_living15</th>\n",
              "      <th>sqft_lot15</th>\n",
              "    </tr>\n",
              "  </thead>\n",
              "  <tbody>\n",
              "    <tr>\n",
              "      <th>0</th>\n",
              "      <td>221900.0</td>\n",
              "      <td>3</td>\n",
              "      <td>1</td>\n",
              "      <td>1180</td>\n",
              "      <td>5650</td>\n",
              "      <td>1</td>\n",
              "      <td>0</td>\n",
              "      <td>0</td>\n",
              "      <td>3</td>\n",
              "      <td>7</td>\n",
              "      <td>1180</td>\n",
              "      <td>0</td>\n",
              "      <td>1340</td>\n",
              "      <td>5650</td>\n",
              "    </tr>\n",
              "    <tr>\n",
              "      <th>1</th>\n",
              "      <td>538000.0</td>\n",
              "      <td>3</td>\n",
              "      <td>2</td>\n",
              "      <td>2570</td>\n",
              "      <td>7242</td>\n",
              "      <td>2</td>\n",
              "      <td>0</td>\n",
              "      <td>0</td>\n",
              "      <td>3</td>\n",
              "      <td>7</td>\n",
              "      <td>2170</td>\n",
              "      <td>400</td>\n",
              "      <td>1690</td>\n",
              "      <td>7639</td>\n",
              "    </tr>\n",
              "    <tr>\n",
              "      <th>2</th>\n",
              "      <td>180000.0</td>\n",
              "      <td>2</td>\n",
              "      <td>1</td>\n",
              "      <td>770</td>\n",
              "      <td>10000</td>\n",
              "      <td>1</td>\n",
              "      <td>0</td>\n",
              "      <td>0</td>\n",
              "      <td>3</td>\n",
              "      <td>6</td>\n",
              "      <td>770</td>\n",
              "      <td>0</td>\n",
              "      <td>2720</td>\n",
              "      <td>8062</td>\n",
              "    </tr>\n",
              "    <tr>\n",
              "      <th>3</th>\n",
              "      <td>604000.0</td>\n",
              "      <td>4</td>\n",
              "      <td>3</td>\n",
              "      <td>1960</td>\n",
              "      <td>5000</td>\n",
              "      <td>1</td>\n",
              "      <td>0</td>\n",
              "      <td>0</td>\n",
              "      <td>5</td>\n",
              "      <td>7</td>\n",
              "      <td>1050</td>\n",
              "      <td>910</td>\n",
              "      <td>1360</td>\n",
              "      <td>5000</td>\n",
              "    </tr>\n",
              "    <tr>\n",
              "      <th>4</th>\n",
              "      <td>510000.0</td>\n",
              "      <td>3</td>\n",
              "      <td>2</td>\n",
              "      <td>1680</td>\n",
              "      <td>8080</td>\n",
              "      <td>1</td>\n",
              "      <td>0</td>\n",
              "      <td>0</td>\n",
              "      <td>3</td>\n",
              "      <td>8</td>\n",
              "      <td>1680</td>\n",
              "      <td>0</td>\n",
              "      <td>1800</td>\n",
              "      <td>7503</td>\n",
              "    </tr>\n",
              "  </tbody>\n",
              "</table>\n",
              "</div>"
            ],
            "text/plain": [
              "      price  bedrooms  bathrooms  ...  sqft_basement  sqft_living15  sqft_lot15\n",
              "0  221900.0         3          1  ...              0           1340        5650\n",
              "1  538000.0         3          2  ...            400           1690        7639\n",
              "2  180000.0         2          1  ...              0           2720        8062\n",
              "3  604000.0         4          3  ...            910           1360        5000\n",
              "4  510000.0         3          2  ...              0           1800        7503\n",
              "\n",
              "[5 rows x 14 columns]"
            ]
          },
          "metadata": {
            "tags": []
          },
          "execution_count": 322
        }
      ]
    },
    {
      "cell_type": "markdown",
      "metadata": {
        "id": "wEwVRKKhl8oi"
      },
      "source": [
        "## 5. Exploratory Data Analysis"
      ]
    },
    {
      "cell_type": "markdown",
      "metadata": {
        "id": "kH4KkZkWS-Om"
      },
      "source": [
        "### Univariate Analysis"
      ]
    },
    {
      "cell_type": "code",
      "metadata": {
        "id": "cpj7V4SAsBBO"
      },
      "source": [
        "import matplotlib.pyplot as plt\n",
        "import seaborn as sns"
      ],
      "execution_count": 323,
      "outputs": []
    },
    {
      "cell_type": "code",
      "metadata": {
        "colab": {
          "base_uri": "https://localhost:8080/",
          "height": 280
        },
        "id": "hcY5UL6vmeG4",
        "outputId": "2fd6c1a9-9e1d-4e8d-ee47-f1aa6565d62f"
      },
      "source": [
        "# Plotting value counts of bedrooms\n",
        "prices['bedrooms'].value_counts().plot(kind='bar')"
      ],
      "execution_count": 324,
      "outputs": [
        {
          "output_type": "execute_result",
          "data": {
            "text/plain": [
              "<matplotlib.axes._subplots.AxesSubplot at 0x7fab4573b630>"
            ]
          },
          "metadata": {
            "tags": []
          },
          "execution_count": 324
        },
        {
          "output_type": "display_data",
          "data": {
            "image/png": "[encoded data removed]",
            "text/plain": [
              "<Figure size 432x288 with 1 Axes>"
            ]
          },
          "metadata": {
            "tags": [],
            "needs_background": "light"
          }
        }
      ]
    },
    {
      "cell_type": "code",
      "metadata": {
        "colab": {
          "base_uri": "https://localhost:8080/",
          "height": 280
        },
        "id": "3ayA1z8bmXKZ",
        "outputId": "f2cd21b0-bd0e-45a8-f1e6-975c0a483d42"
      },
      "source": [
        "# Plotting value counts of bathrooms\n",
        "prices['bathrooms'].value_counts().plot(kind='bar')"
      ],
      "execution_count": 325,
      "outputs": [
        {
          "output_type": "execute_result",
          "data": {
            "text/plain": [
              "<matplotlib.axes._subplots.AxesSubplot at 0x7fab45704080>"
            ]
          },
          "metadata": {
            "tags": []
          },
          "execution_count": 325
        },
        {
          "output_type": "display_data",
          "data": {
            "image/png": "[encoded data removed]",
            "text/plain": [
              "<Figure size 432x288 with 1 Axes>"
            ]
          },
          "metadata": {
            "tags": [],
            "needs_background": "light"
          }
        }
      ]
    },
    {
      "cell_type": "code",
      "metadata": {
        "id": "5cdKEcTQmBch",
        "colab": {
          "base_uri": "https://localhost:8080/",
          "height": 280
        },
        "outputId": "53c55f73-be7f-47ed-bb14-a798e60067ca"
      },
      "source": [
        "# Plotting value counts of floors\n",
        "prices['floors'].value_counts().plot(kind='bar')"
      ],
      "execution_count": 326,
      "outputs": [
        {
          "output_type": "execute_result",
          "data": {
            "text/plain": [
              "<matplotlib.axes._subplots.AxesSubplot at 0x7fab4568bb38>"
            ]
          },
          "metadata": {
            "tags": []
          },
          "execution_count": 326
        },
        {
          "output_type": "display_data",
          "data": {
            "image/png": "[encoded data removed]",
            "text/plain": [
              "<Figure size 432x288 with 1 Axes>"
            ]
          },
          "metadata": {
            "tags": [],
            "needs_background": "light"
          }
        }
      ]
    },
    {
      "cell_type": "code",
      "metadata": {
        "colab": {
          "base_uri": "https://localhost:8080/",
          "height": 286
        },
        "id": "ElKxlz3AfUyn",
        "outputId": "13ac75e1-9a50-4b8c-f738-a6e65aed8df2"
      },
      "source": [
        "# Plotting value counts of grade\n",
        "prices['grade'].value_counts().plot(kind='bar')"
      ],
      "execution_count": 327,
      "outputs": [
        {
          "output_type": "execute_result",
          "data": {
            "text/plain": [
              "<matplotlib.axes._subplots.AxesSubplot at 0x7fab45659c18>"
            ]
          },
          "metadata": {
            "tags": []
          },
          "execution_count": 327
        },
        {
          "output_type": "display_data",
          "data": {
            "image/png": "[encoded data removed]",
            "text/plain": [
              "<Figure size 432x288 with 1 Axes>"
            ]
          },
          "metadata": {
            "tags": [],
            "needs_background": "light"
          }
        }
      ]
    },
    {
      "cell_type": "markdown",
      "metadata": {
        "id": "ekDHQQ7CftSl"
      },
      "source": [
        "#### Central Tendency"
      ]
    },
    {
      "cell_type": "code",
      "metadata": {
        "colab": {
          "base_uri": "https://localhost:8080/"
        },
        "id": "66uESWhNfljn",
        "outputId": "4d320efd-4836-4a30-a20d-f6dfb7166ba6"
      },
      "source": [
        "# Getting the mean of prices\n",
        "prices.price.mean()"
      ],
      "execution_count": 328,
      "outputs": [
        {
          "output_type": "execute_result",
          "data": {
            "text/plain": [
              "521418.2812786269"
            ]
          },
          "metadata": {
            "tags": []
          },
          "execution_count": 328
        }
      ]
    },
    {
      "cell_type": "code",
      "metadata": {
        "colab": {
          "base_uri": "https://localhost:8080/"
        },
        "id": "_D6d3Ma8f-nN",
        "outputId": "0c2f08db-0bb1-4712-a999-05bd32d6e709"
      },
      "source": [
        "# Getting the mean of prices\n",
        "prices.price.median()"
      ],
      "execution_count": 329,
      "outputs": [
        {
          "output_type": "execute_result",
          "data": {
            "text/plain": [
              "449000.0"
            ]
          },
          "metadata": {
            "tags": []
          },
          "execution_count": 329
        }
      ]
    },
    {
      "cell_type": "code",
      "metadata": {
        "colab": {
          "base_uri": "https://localhost:8080/"
        },
        "id": "L0JQ85QDf_70",
        "outputId": "7e0690fb-c385-461c-8e60-692b86b7d8da"
      },
      "source": [
        "# Getting the mean of prices\n",
        "prices.price.mode()"
      ],
      "execution_count": 330,
      "outputs": [
        {
          "output_type": "execute_result",
          "data": {
            "text/plain": [
              "0    450000.0\n",
              "dtype: float64"
            ]
          },
          "metadata": {
            "tags": []
          },
          "execution_count": 330
        }
      ]
    },
    {
      "cell_type": "code",
      "metadata": {
        "colab": {
          "base_uri": "https://localhost:8080/"
        },
        "id": "kWoiBJ_RgBvm",
        "outputId": "6f0ec889-b052-44af-b3a6-2274eba16eb5"
      },
      "source": [
        "# Getting the mean of bedrooms\n",
        "prices.bedrooms.mean()"
      ],
      "execution_count": 331,
      "outputs": [
        {
          "output_type": "execute_result",
          "data": {
            "text/plain": [
              "3.331758353020587"
            ]
          },
          "metadata": {
            "tags": []
          },
          "execution_count": 331
        }
      ]
    },
    {
      "cell_type": "code",
      "metadata": {
        "colab": {
          "base_uri": "https://localhost:8080/"
        },
        "id": "74g9c84_gDA6",
        "outputId": "a07669bf-a3ab-4d1b-af63-76c60ea6b296"
      },
      "source": [
        "# Getting the mean of bedrooms\n",
        "prices.bedrooms.median()"
      ],
      "execution_count": 332,
      "outputs": [
        {
          "output_type": "execute_result",
          "data": {
            "text/plain": [
              "3.0"
            ]
          },
          "metadata": {
            "tags": []
          },
          "execution_count": 332
        }
      ]
    },
    {
      "cell_type": "code",
      "metadata": {
        "colab": {
          "base_uri": "https://localhost:8080/"
        },
        "id": "SYMfLebQgESW",
        "outputId": "4f4e5cb6-0cf9-4d1c-9f9d-32e0b4c50624"
      },
      "source": [
        "# Getting the mean of bedrooms\n",
        "prices.bedrooms.mode()"
      ],
      "execution_count": 333,
      "outputs": [
        {
          "output_type": "execute_result",
          "data": {
            "text/plain": [
              "0    3\n",
              "dtype: int64"
            ]
          },
          "metadata": {
            "tags": []
          },
          "execution_count": 333
        }
      ]
    },
    {
      "cell_type": "code",
      "metadata": {
        "colab": {
          "base_uri": "https://localhost:8080/"
        },
        "id": "Z4a2j1bagHCw",
        "outputId": "04b19318-775f-4a9b-f1ff-f86513855558"
      },
      "source": [
        "# Getting the mean of bathrooms\n",
        "prices.bathrooms.mean()"
      ],
      "execution_count": 334,
      "outputs": [
        {
          "output_type": "execute_result",
          "data": {
            "text/plain": [
              "1.7040644134805458"
            ]
          },
          "metadata": {
            "tags": []
          },
          "execution_count": 334
        }
      ]
    },
    {
      "cell_type": "code",
      "metadata": {
        "colab": {
          "base_uri": "https://localhost:8080/"
        },
        "id": "i7398kbDgIug",
        "outputId": "eaef3b9d-30e4-426d-b330-18fa846bf0d5"
      },
      "source": [
        "# Getting the mean of bathrooms\n",
        "prices.bathrooms.median()"
      ],
      "execution_count": 335,
      "outputs": [
        {
          "output_type": "execute_result",
          "data": {
            "text/plain": [
              "2.0"
            ]
          },
          "metadata": {
            "tags": []
          },
          "execution_count": 335
        }
      ]
    },
    {
      "cell_type": "code",
      "metadata": {
        "colab": {
          "base_uri": "https://localhost:8080/"
        },
        "id": "QW8YW8THgH-O",
        "outputId": "a4a427b6-dc9f-492d-beea-464e39838d54"
      },
      "source": [
        "# Getting the mean of bathrooms\n",
        "prices.bathrooms.mode()"
      ],
      "execution_count": 336,
      "outputs": [
        {
          "output_type": "execute_result",
          "data": {
            "text/plain": [
              "0    2\n",
              "dtype: int64"
            ]
          },
          "metadata": {
            "tags": []
          },
          "execution_count": 336
        }
      ]
    },
    {
      "cell_type": "markdown",
      "metadata": {
        "id": "7vF6u4ujg5oW"
      },
      "source": [
        "#### Dispersion"
      ]
    },
    {
      "cell_type": "code",
      "metadata": {
        "colab": {
          "base_uri": "https://localhost:8080/"
        },
        "id": "02IhTlSHg5Nb",
        "outputId": "8f84c8ad-b2cf-4818-b27d-00a80722352a"
      },
      "source": [
        "# Getting the Standard deviation of price\n",
        "prices['price'].std()"
      ],
      "execution_count": 337,
      "outputs": [
        {
          "output_type": "execute_result",
          "data": {
            "text/plain": [
              "312657.8044245662"
            ]
          },
          "metadata": {
            "tags": []
          },
          "execution_count": 337
        }
      ]
    },
    {
      "cell_type": "code",
      "metadata": {
        "colab": {
          "base_uri": "https://localhost:8080/"
        },
        "id": "hadLfTdghByn",
        "outputId": "8e3c89e4-1f67-47ad-aaa8-d8de67e6da49"
      },
      "source": [
        "# Getting the Maximum value of price\n",
        "prices['price'].max()"
      ],
      "execution_count": 338,
      "outputs": [
        {
          "output_type": "execute_result",
          "data": {
            "text/plain": [
              "4490000.0"
            ]
          },
          "metadata": {
            "tags": []
          },
          "execution_count": 338
        }
      ]
    },
    {
      "cell_type": "code",
      "metadata": {
        "colab": {
          "base_uri": "https://localhost:8080/"
        },
        "id": "kgeygHydhBh1",
        "outputId": "79a7259e-5240-4cf6-94c5-4889941ca67b"
      },
      "source": [
        "# Getting the Minimum value of price\n",
        "prices['price'].min()"
      ],
      "execution_count": 339,
      "outputs": [
        {
          "output_type": "execute_result",
          "data": {
            "text/plain": [
              "78000.0"
            ]
          },
          "metadata": {
            "tags": []
          },
          "execution_count": 339
        }
      ]
    },
    {
      "cell_type": "code",
      "metadata": {
        "colab": {
          "base_uri": "https://localhost:8080/"
        },
        "id": "bYodVexth2Ju",
        "outputId": "6e34ea78-a6ea-46cb-c388-120adb1f55bc"
      },
      "source": [
        "# Getting the Standard deviation of bedrooms\n",
        "prices['bedrooms'].std()"
      ],
      "execution_count": 340,
      "outputs": [
        {
          "output_type": "execute_result",
          "data": {
            "text/plain": [
              "0.792569481175758"
            ]
          },
          "metadata": {
            "tags": []
          },
          "execution_count": 340
        }
      ]
    },
    {
      "cell_type": "code",
      "metadata": {
        "colab": {
          "base_uri": "https://localhost:8080/"
        },
        "id": "NMeci9WAh2x5",
        "outputId": "d63fa97e-ac60-4107-c103-aeb21c3328bf"
      },
      "source": [
        "# Getting the Standard deviation of bathrooms\n",
        "prices['bathrooms'].std()"
      ],
      "execution_count": 341,
      "outputs": [
        {
          "output_type": "execute_result",
          "data": {
            "text/plain": [
              "0.6460154322947881"
            ]
          },
          "metadata": {
            "tags": []
          },
          "execution_count": 341
        }
      ]
    },
    {
      "cell_type": "markdown",
      "metadata": {
        "id": "QZW-f5X-yDi7"
      },
      "source": [
        "Observations\n",
        "\n",
        "From the analysis the following observations were made:\n",
        "\n",
        "- Most houses sold had 2 bathrooms\n",
        "- Most houses sold had 3 bedrooms\n",
        "- Most houses sold only had 1 floor\n",
        "- The average prices of the houses was 521418.28 \n",
        "- Most houses were priced 450000"
      ]
    },
    {
      "cell_type": "markdown",
      "metadata": {
        "id": "nk0IKI7eTCLd"
      },
      "source": [
        "### Bivariate Analysis"
      ]
    },
    {
      "cell_type": "code",
      "metadata": {
        "id": "lxdIaCr8TGTo",
        "colab": {
          "base_uri": "https://localhost:8080/",
          "height": 946
        },
        "outputId": "4b3ac437-d122-4664-fbbe-567d5e911e06"
      },
      "source": [
        "# Getting the correlations of the dataset\n",
        "plt.subplots(figsize=(20,20))\n",
        "sns.heatmap(prices.corr(),annot=True)"
      ],
      "execution_count": 343,
      "outputs": [
        {
          "output_type": "execute_result",
          "data": {
            "text/plain": [
              "<matplotlib.axes._subplots.AxesSubplot at 0x7fab45a04c50>"
            ]
          },
          "metadata": {
            "tags": []
          },
          "execution_count": 343
        },
        {
          "output_type": "display_data",
          "data": {
            "image/png": "[encoded data removed]",
            "text/plain": [
              "<Figure size 1440x1440 with 2 Axes>"
            ]
          },
          "metadata": {
            "tags": [],
            "needs_background": "light"
          }
        }
      ]
    },
    {
      "cell_type": "markdown",
      "metadata": {
        "id": "xa0-ypSZ-G7D"
      },
      "source": [
        "Observations\n",
        "\n",
        "- Sqft_above and sqft_living have a high correlation of 0.86\n",
        "\n",
        "- Sqft_living and sqft_living15 also had a correlation of 0.76\n",
        "\n",
        "- Sqft_living, grade, sqft_above and sqft_living15 all have a high correlation with price compared to the other variables."
      ]
    },
    {
      "cell_type": "code",
      "metadata": {
        "colab": {
          "base_uri": "https://localhost:8080/",
          "height": 168
        },
        "id": "g6eOWMKJHsCB",
        "outputId": "af2f92d3-9bec-4580-b2c8-7cad330e8cad"
      },
      "source": [
        "bd = prices.groupby('bedrooms')['price'].mean().reset_index()\n",
        "bd"
      ],
      "execution_count": 189,
      "outputs": [
        {
          "output_type": "execute_result",
          "data": {
            "text/html": [
              "<div>\n",
              "<style scoped>\n",
              "    .dataframe tbody tr th:only-of-type {\n",
              "        vertical-align: middle;\n",
              "    }\n",
              "\n",
              "    .dataframe tbody tr th {\n",
              "        vertical-align: top;\n",
              "    }\n",
              "\n",
              "    .dataframe thead th {\n",
              "        text-align: right;\n",
              "    }\n",
              "</style>\n",
              "<table border=\"1\" class=\"dataframe\">\n",
              "  <thead>\n",
              "    <tr style=\"text-align: right;\">\n",
              "      <th></th>\n",
              "      <th>bedrooms</th>\n",
              "      <th>price</th>\n",
              "    </tr>\n",
              "  </thead>\n",
              "  <tbody>\n",
              "    <tr>\n",
              "      <th>0</th>\n",
              "      <td>2</td>\n",
              "      <td>401439.011236</td>\n",
              "    </tr>\n",
              "    <tr>\n",
              "      <th>1</th>\n",
              "      <td>3</td>\n",
              "      <td>464065.888855</td>\n",
              "    </tr>\n",
              "    <tr>\n",
              "      <th>2</th>\n",
              "      <td>4</td>\n",
              "      <td>616116.341855</td>\n",
              "    </tr>\n",
              "    <tr>\n",
              "      <th>3</th>\n",
              "      <td>5</td>\n",
              "      <td>697127.756181</td>\n",
              "    </tr>\n",
              "  </tbody>\n",
              "</table>\n",
              "</div>"
            ],
            "text/plain": [
              "   bedrooms          price\n",
              "0         2  401439.011236\n",
              "1         3  464065.888855\n",
              "2         4  616116.341855\n",
              "3         5  697127.756181"
            ]
          },
          "metadata": {
            "tags": []
          },
          "execution_count": 189
        }
      ]
    },
    {
      "cell_type": "code",
      "metadata": {
        "colab": {
          "base_uri": "https://localhost:8080/",
          "height": 295
        },
        "id": "kcb6PPQyWudB",
        "outputId": "b257d52b-a82f-443b-dc1e-cc1d93b42786"
      },
      "source": [
        "# Plotting a bar graph of Prices against No. of bedrooms\n",
        "plt.bar(bd.bedrooms, bd.price)\n",
        "plt.title('Prices against No. of bedrooms')\n",
        "plt.xlabel('No. of bedrooms')\n",
        "plt.ylabel('Prices')\n",
        "plt.show()"
      ],
      "execution_count": 190,
      "outputs": [
        {
          "output_type": "display_data",
          "data": {
            "image/png": "[encoded data removed]",
            "text/plain": [
              "<Figure size 432x288 with 1 Axes>"
            ]
          },
          "metadata": {
            "tags": [],
            "needs_background": "light"
          }
        }
      ]
    },
    {
      "cell_type": "code",
      "metadata": {
        "id": "xd16Ez_1TMDF",
        "colab": {
          "base_uri": "https://localhost:8080/",
          "height": 168
        },
        "outputId": "c577f8ae-3a27-49b0-b243-23f68c07829a"
      },
      "source": [
        "bt = prices.groupby('bathrooms')['price'].mean().reset_index()\n",
        "bt"
      ],
      "execution_count": 191,
      "outputs": [
        {
          "output_type": "execute_result",
          "data": {
            "text/html": [
              "<div>\n",
              "<style scoped>\n",
              "    .dataframe tbody tr th:only-of-type {\n",
              "        vertical-align: middle;\n",
              "    }\n",
              "\n",
              "    .dataframe tbody tr th {\n",
              "        vertical-align: top;\n",
              "    }\n",
              "\n",
              "    .dataframe thead th {\n",
              "        text-align: right;\n",
              "    }\n",
              "</style>\n",
              "<table border=\"1\" class=\"dataframe\">\n",
              "  <thead>\n",
              "    <tr style=\"text-align: right;\">\n",
              "      <th></th>\n",
              "      <th>bathrooms</th>\n",
              "      <th>price</th>\n",
              "    </tr>\n",
              "  </thead>\n",
              "  <tbody>\n",
              "    <tr>\n",
              "      <th>0</th>\n",
              "      <td>0</td>\n",
              "      <td>316096.851064</td>\n",
              "    </tr>\n",
              "    <tr>\n",
              "      <th>1</th>\n",
              "      <td>1</td>\n",
              "      <td>398460.782460</td>\n",
              "    </tr>\n",
              "    <tr>\n",
              "      <th>2</th>\n",
              "      <td>2</td>\n",
              "      <td>543342.258982</td>\n",
              "    </tr>\n",
              "    <tr>\n",
              "      <th>3</th>\n",
              "      <td>3</td>\n",
              "      <td>891817.583019</td>\n",
              "    </tr>\n",
              "  </tbody>\n",
              "</table>\n",
              "</div>"
            ],
            "text/plain": [
              "   bathrooms          price\n",
              "0          0  316096.851064\n",
              "1          1  398460.782460\n",
              "2          2  543342.258982\n",
              "3          3  891817.583019"
            ]
          },
          "metadata": {
            "tags": []
          },
          "execution_count": 191
        }
      ]
    },
    {
      "cell_type": "code",
      "metadata": {
        "colab": {
          "base_uri": "https://localhost:8080/",
          "height": 295
        },
        "id": "HxqoWnhqPxhV",
        "outputId": "1d8af8cf-b525-4670-f6cd-e876c7af4ebf"
      },
      "source": [
        "# Plotting a bar graph of Prices against No. of bathrooms\n",
        "plt.bar(bt.bathrooms, bt.price )\n",
        "plt.title('Prices against No. of bathrooms')\n",
        "plt.xlabel('No. of bathrooms')\n",
        "plt.ylabel('Prices')\n",
        "plt.show()"
      ],
      "execution_count": 192,
      "outputs": [
        {
          "output_type": "display_data",
          "data": {
            "image/png": "[encoded data removed]",
            "text/plain": [
              "<Figure size 432x288 with 1 Axes>"
            ]
          },
          "metadata": {
            "tags": [],
            "needs_background": "light"
          }
        }
      ]
    },
    {
      "cell_type": "code",
      "metadata": {
        "colab": {
          "base_uri": "https://localhost:8080/",
          "height": 138
        },
        "id": "TcEMrtSPZHwB",
        "outputId": "c19d1a37-dfb6-4c6b-c427-b312d33ac5ed"
      },
      "source": [
        "fl = prices.groupby('floors')['price'].mean().reset_index()\n",
        "fl"
      ],
      "execution_count": 193,
      "outputs": [
        {
          "output_type": "execute_result",
          "data": {
            "text/html": [
              "<div>\n",
              "<style scoped>\n",
              "    .dataframe tbody tr th:only-of-type {\n",
              "        vertical-align: middle;\n",
              "    }\n",
              "\n",
              "    .dataframe tbody tr th {\n",
              "        vertical-align: top;\n",
              "    }\n",
              "\n",
              "    .dataframe thead th {\n",
              "        text-align: right;\n",
              "    }\n",
              "</style>\n",
              "<table border=\"1\" class=\"dataframe\">\n",
              "  <thead>\n",
              "    <tr style=\"text-align: right;\">\n",
              "      <th></th>\n",
              "      <th>floors</th>\n",
              "      <th>price</th>\n",
              "    </tr>\n",
              "  </thead>\n",
              "  <tbody>\n",
              "    <tr>\n",
              "      <th>0</th>\n",
              "      <td>1</td>\n",
              "      <td>457156.231368</td>\n",
              "    </tr>\n",
              "    <tr>\n",
              "      <th>1</th>\n",
              "      <td>2</td>\n",
              "      <td>618177.728589</td>\n",
              "    </tr>\n",
              "    <tr>\n",
              "      <th>2</th>\n",
              "      <td>3</td>\n",
              "      <td>549116.450085</td>\n",
              "    </tr>\n",
              "  </tbody>\n",
              "</table>\n",
              "</div>"
            ],
            "text/plain": [
              "   floors          price\n",
              "0       1  457156.231368\n",
              "1       2  618177.728589\n",
              "2       3  549116.450085"
            ]
          },
          "metadata": {
            "tags": []
          },
          "execution_count": 193
        }
      ]
    },
    {
      "cell_type": "code",
      "metadata": {
        "colab": {
          "base_uri": "https://localhost:8080/",
          "height": 295
        },
        "id": "sg-gfNCQZUhM",
        "outputId": "546fd9d4-3852-40c1-a440-c48194bb93cb"
      },
      "source": [
        "# Plotting a bar graph of Prices against No. of floors\n",
        "plt.bar(fl.floors, fl.price)\n",
        "plt.title('Prices against No. of floors')\n",
        "plt.xlabel('No. of floors')\n",
        "plt.ylabel('Prices')\n",
        "plt.show()"
      ],
      "execution_count": 194,
      "outputs": [
        {
          "output_type": "display_data",
          "data": {
            "image/png": "[encoded data removed]",
            "text/plain": [
              "<Figure size 432x288 with 1 Axes>"
            ]
          },
          "metadata": {
            "tags": [],
            "needs_background": "light"
          }
        }
      ]
    },
    {
      "cell_type": "code",
      "metadata": {
        "colab": {
          "base_uri": "https://localhost:8080/",
          "height": 348
        },
        "id": "VRzhSIy7hbep",
        "outputId": "f2b173ed-8efb-49a9-f11d-e6d6b1c467e0"
      },
      "source": [
        "gr = prices.groupby('grade')['price'].mean().reset_index()\n",
        "gr"
      ],
      "execution_count": 195,
      "outputs": [
        {
          "output_type": "execute_result",
          "data": {
            "text/html": [
              "<div>\n",
              "<style scoped>\n",
              "    .dataframe tbody tr th:only-of-type {\n",
              "        vertical-align: middle;\n",
              "    }\n",
              "\n",
              "    .dataframe tbody tr th {\n",
              "        vertical-align: top;\n",
              "    }\n",
              "\n",
              "    .dataframe thead th {\n",
              "        text-align: right;\n",
              "    }\n",
              "</style>\n",
              "<table border=\"1\" class=\"dataframe\">\n",
              "  <thead>\n",
              "    <tr style=\"text-align: right;\">\n",
              "      <th></th>\n",
              "      <th>grade</th>\n",
              "      <th>price</th>\n",
              "    </tr>\n",
              "  </thead>\n",
              "  <tbody>\n",
              "    <tr>\n",
              "      <th>0</th>\n",
              "      <td>4</td>\n",
              "      <td>2.076667e+05</td>\n",
              "    </tr>\n",
              "    <tr>\n",
              "      <th>1</th>\n",
              "      <td>5</td>\n",
              "      <td>2.479620e+05</td>\n",
              "    </tr>\n",
              "    <tr>\n",
              "      <th>2</th>\n",
              "      <td>6</td>\n",
              "      <td>3.012894e+05</td>\n",
              "    </tr>\n",
              "    <tr>\n",
              "      <th>3</th>\n",
              "      <td>7</td>\n",
              "      <td>4.009782e+05</td>\n",
              "    </tr>\n",
              "    <tr>\n",
              "      <th>4</th>\n",
              "      <td>8</td>\n",
              "      <td>5.391691e+05</td>\n",
              "    </tr>\n",
              "    <tr>\n",
              "      <th>5</th>\n",
              "      <td>9</td>\n",
              "      <td>7.674727e+05</td>\n",
              "    </tr>\n",
              "    <tr>\n",
              "      <th>6</th>\n",
              "      <td>10</td>\n",
              "      <td>1.026033e+06</td>\n",
              "    </tr>\n",
              "    <tr>\n",
              "      <th>7</th>\n",
              "      <td>11</td>\n",
              "      <td>1.372396e+06</td>\n",
              "    </tr>\n",
              "    <tr>\n",
              "      <th>8</th>\n",
              "      <td>12</td>\n",
              "      <td>1.957500e+06</td>\n",
              "    </tr>\n",
              "    <tr>\n",
              "      <th>9</th>\n",
              "      <td>13</td>\n",
              "      <td>2.200000e+06</td>\n",
              "    </tr>\n",
              "  </tbody>\n",
              "</table>\n",
              "</div>"
            ],
            "text/plain": [
              "   grade         price\n",
              "0      4  2.076667e+05\n",
              "1      5  2.479620e+05\n",
              "2      6  3.012894e+05\n",
              "3      7  4.009782e+05\n",
              "4      8  5.391691e+05\n",
              "5      9  7.674727e+05\n",
              "6     10  1.026033e+06\n",
              "7     11  1.372396e+06\n",
              "8     12  1.957500e+06\n",
              "9     13  2.200000e+06"
            ]
          },
          "metadata": {
            "tags": []
          },
          "execution_count": 195
        }
      ]
    },
    {
      "cell_type": "code",
      "metadata": {
        "colab": {
          "base_uri": "https://localhost:8080/",
          "height": 295
        },
        "id": "2y7cFAwIhn9C",
        "outputId": "36ed308e-6b8b-4d36-bd33-d9fbaedbe853"
      },
      "source": [
        "# Plotting a bar graph of Prices against Grade\n",
        "plt.bar(gr.grade, gr.price)\n",
        "plt.title('Prices against Grade')\n",
        "plt.xlabel('Grade')\n",
        "plt.ylabel('Prices')\n",
        "plt.show()"
      ],
      "execution_count": 196,
      "outputs": [
        {
          "output_type": "display_data",
          "data": {
            "image/png": "[encoded data removed]",
            "text/plain": [
              "<Figure size 432x288 with 1 Axes>"
            ]
          },
          "metadata": {
            "tags": [],
            "needs_background": "light"
          }
        }
      ]
    },
    {
      "cell_type": "markdown",
      "metadata": {
        "id": "Tcfiu3N4ASZy"
      },
      "source": [
        "Observations\n",
        "\n",
        "- Houses with 5 bedrooms have the highest mean prices\n",
        "- Houses with 3 bathrooms have the highest mean \n",
        "- Houses with 2 floors have the highest mean prices\n",
        "- Houses graded 13 had the highest mean prices"
      ]
    },
    {
      "cell_type": "markdown",
      "metadata": {
        "id": "kFt-_blhmCFq"
      },
      "source": [
        "## 6. Implementing the Solution"
      ]
    },
    {
      "cell_type": "markdown",
      "metadata": {
        "id": "Ik5iqD7Q7MlW"
      },
      "source": [
        "### Multicollinearity"
      ]
    },
    {
      "cell_type": "code",
      "metadata": {
        "colab": {
          "base_uri": "https://localhost:8080/"
        },
        "id": "WCLxMPOX8Lfx",
        "outputId": "41914a22-0091-44ef-ff37-51922262a327"
      },
      "source": [
        "# Checking the columns in the dataset\n",
        "prices.columns"
      ],
      "execution_count": 197,
      "outputs": [
        {
          "output_type": "execute_result",
          "data": {
            "text/plain": [
              "Index(['price', 'bedrooms', 'bathrooms', 'sqft_living', 'sqft_lot', 'floors',\n",
              "       'waterfront', 'view', 'condition', 'grade', 'sqft_above',\n",
              "       'sqft_basement', 'sqft_living15', 'sqft_lot15'],\n",
              "      dtype='object')"
            ]
          },
          "metadata": {
            "tags": []
          },
          "execution_count": 197
        }
      ]
    },
    {
      "cell_type": "code",
      "metadata": {
        "id": "7TyfpjZRmORi",
        "colab": {
          "base_uri": "https://localhost:8080/",
          "height": 458
        },
        "outputId": "4065c6fb-49bb-45c2-9933-4ea74fd4bb56"
      },
      "source": [
        "# Getting the correlations of the Independent variables\n",
        "ind = prices[['bedrooms', 'bathrooms', 'sqft_living', 'sqft_lot', 'floors',\n",
        "       'waterfront', 'view', 'condition', 'grade', 'sqft_above',\n",
        "       'sqft_basement', 'sqft_living15', 'sqft_lot15']]\n",
        "\n",
        "correlation = ind.corr()\n",
        "correlation"
      ],
      "execution_count": 198,
      "outputs": [
        {
          "output_type": "execute_result",
          "data": {
            "text/html": [
              "<div>\n",
              "<style scoped>\n",
              "    .dataframe tbody tr th:only-of-type {\n",
              "        vertical-align: middle;\n",
              "    }\n",
              "\n",
              "    .dataframe tbody tr th {\n",
              "        vertical-align: top;\n",
              "    }\n",
              "\n",
              "    .dataframe thead th {\n",
              "        text-align: right;\n",
              "    }\n",
              "</style>\n",
              "<table border=\"1\" class=\"dataframe\">\n",
              "  <thead>\n",
              "    <tr style=\"text-align: right;\">\n",
              "      <th></th>\n",
              "      <th>bedrooms</th>\n",
              "      <th>bathrooms</th>\n",
              "      <th>sqft_living</th>\n",
              "      <th>sqft_lot</th>\n",
              "      <th>floors</th>\n",
              "      <th>waterfront</th>\n",
              "      <th>view</th>\n",
              "      <th>condition</th>\n",
              "      <th>grade</th>\n",
              "      <th>sqft_above</th>\n",
              "      <th>sqft_basement</th>\n",
              "      <th>sqft_living15</th>\n",
              "      <th>sqft_lot15</th>\n",
              "    </tr>\n",
              "  </thead>\n",
              "  <tbody>\n",
              "    <tr>\n",
              "      <th>bedrooms</th>\n",
              "      <td>1.000000</td>\n",
              "      <td>0.427467</td>\n",
              "      <td>0.580466</td>\n",
              "      <td>0.027957</td>\n",
              "      <td>0.145649</td>\n",
              "      <td>-0.019508</td>\n",
              "      <td>0.062265</td>\n",
              "      <td>0.022853</td>\n",
              "      <td>0.349034</td>\n",
              "      <td>0.476521</td>\n",
              "      <td>0.269949</td>\n",
              "      <td>0.411076</td>\n",
              "      <td>0.027609</td>\n",
              "    </tr>\n",
              "    <tr>\n",
              "      <th>bathrooms</th>\n",
              "      <td>0.427467</td>\n",
              "      <td>1.000000</td>\n",
              "      <td>0.637804</td>\n",
              "      <td>0.061448</td>\n",
              "      <td>0.496832</td>\n",
              "      <td>0.032439</td>\n",
              "      <td>0.133501</td>\n",
              "      <td>-0.135471</td>\n",
              "      <td>0.571162</td>\n",
              "      <td>0.582201</td>\n",
              "      <td>0.190713</td>\n",
              "      <td>0.478519</td>\n",
              "      <td>0.055286</td>\n",
              "    </tr>\n",
              "    <tr>\n",
              "      <th>sqft_living</th>\n",
              "      <td>0.580466</td>\n",
              "      <td>0.637804</td>\n",
              "      <td>1.000000</td>\n",
              "      <td>0.157022</td>\n",
              "      <td>0.342336</td>\n",
              "      <td>0.083145</td>\n",
              "      <td>0.255086</td>\n",
              "      <td>-0.060288</td>\n",
              "      <td>0.746163</td>\n",
              "      <td>0.860818</td>\n",
              "      <td>0.392980</td>\n",
              "      <td>0.759976</td>\n",
              "      <td>0.171144</td>\n",
              "    </tr>\n",
              "    <tr>\n",
              "      <th>sqft_lot</th>\n",
              "      <td>0.027957</td>\n",
              "      <td>0.061448</td>\n",
              "      <td>0.157022</td>\n",
              "      <td>1.000000</td>\n",
              "      <td>-0.018989</td>\n",
              "      <td>0.023498</td>\n",
              "      <td>0.069994</td>\n",
              "      <td>-0.009304</td>\n",
              "      <td>0.101246</td>\n",
              "      <td>0.168629</td>\n",
              "      <td>0.001245</td>\n",
              "      <td>0.139289</td>\n",
              "      <td>0.699580</td>\n",
              "    </tr>\n",
              "    <tr>\n",
              "      <th>floors</th>\n",
              "      <td>0.145649</td>\n",
              "      <td>0.496832</td>\n",
              "      <td>0.342336</td>\n",
              "      <td>-0.018989</td>\n",
              "      <td>1.000000</td>\n",
              "      <td>0.013745</td>\n",
              "      <td>0.005375</td>\n",
              "      <td>-0.297988</td>\n",
              "      <td>0.465903</td>\n",
              "      <td>0.518137</td>\n",
              "      <td>-0.269213</td>\n",
              "      <td>0.282946</td>\n",
              "      <td>-0.026111</td>\n",
              "    </tr>\n",
              "    <tr>\n",
              "      <th>waterfront</th>\n",
              "      <td>-0.019508</td>\n",
              "      <td>0.032439</td>\n",
              "      <td>0.083145</td>\n",
              "      <td>0.023498</td>\n",
              "      <td>0.013745</td>\n",
              "      <td>1.000000</td>\n",
              "      <td>0.388554</td>\n",
              "      <td>0.014118</td>\n",
              "      <td>0.074135</td>\n",
              "      <td>0.053458</td>\n",
              "      <td>0.065406</td>\n",
              "      <td>0.076839</td>\n",
              "      <td>0.035615</td>\n",
              "    </tr>\n",
              "    <tr>\n",
              "      <th>view</th>\n",
              "      <td>0.062265</td>\n",
              "      <td>0.133501</td>\n",
              "      <td>0.255086</td>\n",
              "      <td>0.069994</td>\n",
              "      <td>0.005375</td>\n",
              "      <td>0.388554</td>\n",
              "      <td>1.000000</td>\n",
              "      <td>0.046611</td>\n",
              "      <td>0.227168</td>\n",
              "      <td>0.131990</td>\n",
              "      <td>0.258515</td>\n",
              "      <td>0.261871</td>\n",
              "      <td>0.069607</td>\n",
              "    </tr>\n",
              "    <tr>\n",
              "      <th>condition</th>\n",
              "      <td>0.022853</td>\n",
              "      <td>-0.135471</td>\n",
              "      <td>-0.060288</td>\n",
              "      <td>-0.009304</td>\n",
              "      <td>-0.297988</td>\n",
              "      <td>0.014118</td>\n",
              "      <td>0.046611</td>\n",
              "      <td>1.000000</td>\n",
              "      <td>-0.153817</td>\n",
              "      <td>-0.166305</td>\n",
              "      <td>0.183030</td>\n",
              "      <td>-0.095623</td>\n",
              "      <td>-0.001774</td>\n",
              "    </tr>\n",
              "    <tr>\n",
              "      <th>grade</th>\n",
              "      <td>0.349034</td>\n",
              "      <td>0.571162</td>\n",
              "      <td>0.746163</td>\n",
              "      <td>0.101246</td>\n",
              "      <td>0.465903</td>\n",
              "      <td>0.074135</td>\n",
              "      <td>0.227168</td>\n",
              "      <td>-0.153817</td>\n",
              "      <td>1.000000</td>\n",
              "      <td>0.737459</td>\n",
              "      <td>0.121306</td>\n",
              "      <td>0.699362</td>\n",
              "      <td>0.109170</td>\n",
              "    </tr>\n",
              "    <tr>\n",
              "      <th>sqft_above</th>\n",
              "      <td>0.476521</td>\n",
              "      <td>0.582201</td>\n",
              "      <td>0.860818</td>\n",
              "      <td>0.168629</td>\n",
              "      <td>0.518137</td>\n",
              "      <td>0.053458</td>\n",
              "      <td>0.131990</td>\n",
              "      <td>-0.166305</td>\n",
              "      <td>0.737459</td>\n",
              "      <td>1.000000</td>\n",
              "      <td>-0.129685</td>\n",
              "      <td>0.727811</td>\n",
              "      <td>0.183553</td>\n",
              "    </tr>\n",
              "    <tr>\n",
              "      <th>sqft_basement</th>\n",
              "      <td>0.269949</td>\n",
              "      <td>0.190713</td>\n",
              "      <td>0.392980</td>\n",
              "      <td>0.001245</td>\n",
              "      <td>-0.269213</td>\n",
              "      <td>0.065406</td>\n",
              "      <td>0.258515</td>\n",
              "      <td>0.183030</td>\n",
              "      <td>0.121306</td>\n",
              "      <td>-0.129685</td>\n",
              "      <td>1.000000</td>\n",
              "      <td>0.165652</td>\n",
              "      <td>0.001795</td>\n",
              "    </tr>\n",
              "    <tr>\n",
              "      <th>sqft_living15</th>\n",
              "      <td>0.411076</td>\n",
              "      <td>0.478519</td>\n",
              "      <td>0.759976</td>\n",
              "      <td>0.139289</td>\n",
              "      <td>0.282946</td>\n",
              "      <td>0.076839</td>\n",
              "      <td>0.261871</td>\n",
              "      <td>-0.095623</td>\n",
              "      <td>0.699362</td>\n",
              "      <td>0.727811</td>\n",
              "      <td>0.165652</td>\n",
              "      <td>1.000000</td>\n",
              "      <td>0.180836</td>\n",
              "    </tr>\n",
              "    <tr>\n",
              "      <th>sqft_lot15</th>\n",
              "      <td>0.027609</td>\n",
              "      <td>0.055286</td>\n",
              "      <td>0.171144</td>\n",
              "      <td>0.699580</td>\n",
              "      <td>-0.026111</td>\n",
              "      <td>0.035615</td>\n",
              "      <td>0.069607</td>\n",
              "      <td>-0.001774</td>\n",
              "      <td>0.109170</td>\n",
              "      <td>0.183553</td>\n",
              "      <td>0.001795</td>\n",
              "      <td>0.180836</td>\n",
              "      <td>1.000000</td>\n",
              "    </tr>\n",
              "  </tbody>\n",
              "</table>\n",
              "</div>"
            ],
            "text/plain": [
              "               bedrooms  bathrooms  ...  sqft_living15  sqft_lot15\n",
              "bedrooms       1.000000   0.427467  ...       0.411076    0.027609\n",
              "bathrooms      0.427467   1.000000  ...       0.478519    0.055286\n",
              "sqft_living    0.580466   0.637804  ...       0.759976    0.171144\n",
              "sqft_lot       0.027957   0.061448  ...       0.139289    0.699580\n",
              "floors         0.145649   0.496832  ...       0.282946   -0.026111\n",
              "waterfront    -0.019508   0.032439  ...       0.076839    0.035615\n",
              "view           0.062265   0.133501  ...       0.261871    0.069607\n",
              "condition      0.022853  -0.135471  ...      -0.095623   -0.001774\n",
              "grade          0.349034   0.571162  ...       0.699362    0.109170\n",
              "sqft_above     0.476521   0.582201  ...       0.727811    0.183553\n",
              "sqft_basement  0.269949   0.190713  ...       0.165652    0.001795\n",
              "sqft_living15  0.411076   0.478519  ...       1.000000    0.180836\n",
              "sqft_lot15     0.027609   0.055286  ...       0.180836    1.000000\n",
              "\n",
              "[13 rows x 13 columns]"
            ]
          },
          "metadata": {
            "tags": []
          },
          "execution_count": 198
        }
      ]
    },
    {
      "cell_type": "code",
      "metadata": {
        "colab": {
          "base_uri": "https://localhost:8080/",
          "height": 458
        },
        "id": "sFudT2yo7jXZ",
        "outputId": "379136f3-3267-4433-a53c-0e9fcd163be0"
      },
      "source": [
        "# Getting the VIFs of the Independent variables\n",
        "pd.DataFrame(np.linalg.inv(correlation.values), index = correlation.index, columns=correlation.columns)"
      ],
      "execution_count": 199,
      "outputs": [
        {
          "output_type": "execute_result",
          "data": {
            "text/html": [
              "<div>\n",
              "<style scoped>\n",
              "    .dataframe tbody tr th:only-of-type {\n",
              "        vertical-align: middle;\n",
              "    }\n",
              "\n",
              "    .dataframe tbody tr th {\n",
              "        vertical-align: top;\n",
              "    }\n",
              "\n",
              "    .dataframe thead th {\n",
              "        text-align: right;\n",
              "    }\n",
              "</style>\n",
              "<table border=\"1\" class=\"dataframe\">\n",
              "  <thead>\n",
              "    <tr style=\"text-align: right;\">\n",
              "      <th></th>\n",
              "      <th>bedrooms</th>\n",
              "      <th>bathrooms</th>\n",
              "      <th>sqft_living</th>\n",
              "      <th>sqft_lot</th>\n",
              "      <th>floors</th>\n",
              "      <th>waterfront</th>\n",
              "      <th>view</th>\n",
              "      <th>condition</th>\n",
              "      <th>grade</th>\n",
              "      <th>sqft_above</th>\n",
              "      <th>sqft_basement</th>\n",
              "      <th>sqft_living15</th>\n",
              "      <th>sqft_lot15</th>\n",
              "    </tr>\n",
              "  </thead>\n",
              "  <tbody>\n",
              "    <tr>\n",
              "      <th>bedrooms</th>\n",
              "      <td>1.614990</td>\n",
              "      <td>-0.248693</td>\n",
              "      <td>-1.385112e+00</td>\n",
              "      <td>0.043923</td>\n",
              "      <td>0.116174</td>\n",
              "      <td>0.059275</td>\n",
              "      <td>0.115063</td>\n",
              "      <td>-0.067099</td>\n",
              "      <td>0.295955</td>\n",
              "      <td>2.760027e-01</td>\n",
              "      <td>1.691018e-01</td>\n",
              "      <td>-0.023470</td>\n",
              "      <td>0.089479</td>\n",
              "    </tr>\n",
              "    <tr>\n",
              "      <th>bathrooms</th>\n",
              "      <td>-0.248693</td>\n",
              "      <td>2.064532</td>\n",
              "      <td>-5.520464e-01</td>\n",
              "      <td>-0.026621</td>\n",
              "      <td>-0.695880</td>\n",
              "      <td>0.018537</td>\n",
              "      <td>0.015589</td>\n",
              "      <td>0.042754</td>\n",
              "      <td>-0.258308</td>\n",
              "      <td>-1.362193e-01</td>\n",
              "      <td>-3.064933e-01</td>\n",
              "      <td>0.058031</td>\n",
              "      <td>0.029195</td>\n",
              "    </tr>\n",
              "    <tr>\n",
              "      <th>sqft_living</th>\n",
              "      <td>-1.385936</td>\n",
              "      <td>-0.552019</td>\n",
              "      <td>-1.577964e+13</td>\n",
              "      <td>-0.080062</td>\n",
              "      <td>0.900232</td>\n",
              "      <td>0.010167</td>\n",
              "      <td>-0.679555</td>\n",
              "      <td>0.252679</td>\n",
              "      <td>-1.516840</td>\n",
              "      <td>1.463370e+13</td>\n",
              "      <td>8.098843e+12</td>\n",
              "      <td>-0.460721</td>\n",
              "      <td>0.000162</td>\n",
              "    </tr>\n",
              "    <tr>\n",
              "      <th>sqft_lot</th>\n",
              "      <td>0.043923</td>\n",
              "      <td>-0.026621</td>\n",
              "      <td>-8.043647e-02</td>\n",
              "      <td>1.975024</td>\n",
              "      <td>0.084898</td>\n",
              "      <td>0.025700</td>\n",
              "      <td>-0.049771</td>\n",
              "      <td>0.018435</td>\n",
              "      <td>0.000125</td>\n",
              "      <td>-1.307120e-01</td>\n",
              "      <td>2.071442e-02</td>\n",
              "      <td>0.106750</td>\n",
              "      <td>-1.358219</td>\n",
              "    </tr>\n",
              "    <tr>\n",
              "      <th>floors</th>\n",
              "      <td>0.116174</td>\n",
              "      <td>-0.695880</td>\n",
              "      <td>9.005344e-01</td>\n",
              "      <td>0.084898</td>\n",
              "      <td>1.906356</td>\n",
              "      <td>-0.012199</td>\n",
              "      <td>0.006432</td>\n",
              "      <td>0.262781</td>\n",
              "      <td>-0.454789</td>\n",
              "      <td>-1.271318e+00</td>\n",
              "      <td>5.308070e-02</td>\n",
              "      <td>0.290171</td>\n",
              "      <td>0.102472</td>\n",
              "    </tr>\n",
              "    <tr>\n",
              "      <th>waterfront</th>\n",
              "      <td>0.059275</td>\n",
              "      <td>0.018537</td>\n",
              "      <td>1.013304e-02</td>\n",
              "      <td>0.025700</td>\n",
              "      <td>-0.012199</td>\n",
              "      <td>1.183959</td>\n",
              "      <td>-0.473114</td>\n",
              "      <td>-0.003147</td>\n",
              "      <td>0.022214</td>\n",
              "      <td>-9.798323e-02</td>\n",
              "      <td>-5.545612e-03</td>\n",
              "      <td>0.052979</td>\n",
              "      <td>-0.025934</td>\n",
              "    </tr>\n",
              "    <tr>\n",
              "      <th>view</th>\n",
              "      <td>0.115063</td>\n",
              "      <td>0.015589</td>\n",
              "      <td>-6.796947e-01</td>\n",
              "      <td>-0.049771</td>\n",
              "      <td>0.006432</td>\n",
              "      <td>-0.473114</td>\n",
              "      <td>1.344306</td>\n",
              "      <td>-0.044329</td>\n",
              "      <td>-0.135649</td>\n",
              "      <td>6.533747e-01</td>\n",
              "      <td>6.864175e-02</td>\n",
              "      <td>-0.246968</td>\n",
              "      <td>0.009850</td>\n",
              "    </tr>\n",
              "    <tr>\n",
              "      <th>condition</th>\n",
              "      <td>-0.067099</td>\n",
              "      <td>0.042754</td>\n",
              "      <td>2.530237e-01</td>\n",
              "      <td>0.018435</td>\n",
              "      <td>0.262781</td>\n",
              "      <td>-0.003147</td>\n",
              "      <td>-0.044329</td>\n",
              "      <td>1.121326</td>\n",
              "      <td>0.071056</td>\n",
              "      <td>-2.902948e-01</td>\n",
              "      <td>-2.692944e-01</td>\n",
              "      <td>0.065028</td>\n",
              "      <td>-0.010423</td>\n",
              "    </tr>\n",
              "    <tr>\n",
              "      <th>grade</th>\n",
              "      <td>0.295955</td>\n",
              "      <td>-0.258308</td>\n",
              "      <td>-1.515467e+00</td>\n",
              "      <td>0.000125</td>\n",
              "      <td>-0.454789</td>\n",
              "      <td>0.022214</td>\n",
              "      <td>-0.135649</td>\n",
              "      <td>0.071056</td>\n",
              "      <td>2.942071</td>\n",
              "      <td>-4.838655e-03</td>\n",
              "      <td>2.351586e-01</td>\n",
              "      <td>-0.785131</td>\n",
              "      <td>0.083572</td>\n",
              "    </tr>\n",
              "    <tr>\n",
              "      <th>sqft_above</th>\n",
              "      <td>0.275528</td>\n",
              "      <td>-0.135952</td>\n",
              "      <td>1.463370e+13</td>\n",
              "      <td>-0.131092</td>\n",
              "      <td>-1.271354</td>\n",
              "      <td>-0.098072</td>\n",
              "      <td>0.653462</td>\n",
              "      <td>-0.289913</td>\n",
              "      <td>-0.003703</td>\n",
              "      <td>-1.357098e+13</td>\n",
              "      <td>-7.510694e+12</td>\n",
              "      <td>-1.208773</td>\n",
              "      <td>-0.190220</td>\n",
              "    </tr>\n",
              "    <tr>\n",
              "      <th>sqft_basement</th>\n",
              "      <td>0.169546</td>\n",
              "      <td>-0.306002</td>\n",
              "      <td>8.098843e+12</td>\n",
              "      <td>0.020630</td>\n",
              "      <td>0.053771</td>\n",
              "      <td>-0.005546</td>\n",
              "      <td>0.068437</td>\n",
              "      <td>-0.269157</td>\n",
              "      <td>0.236167</td>\n",
              "      <td>-7.510694e+12</td>\n",
              "      <td>-4.156702e+12</td>\n",
              "      <td>-0.222061</td>\n",
              "      <td>-0.009109</td>\n",
              "    </tr>\n",
              "    <tr>\n",
              "      <th>sqft_living15</th>\n",
              "      <td>-0.023470</td>\n",
              "      <td>0.058031</td>\n",
              "      <td>-4.590521e-01</td>\n",
              "      <td>0.106750</td>\n",
              "      <td>0.290171</td>\n",
              "      <td>0.052979</td>\n",
              "      <td>-0.246968</td>\n",
              "      <td>0.065028</td>\n",
              "      <td>-0.785131</td>\n",
              "      <td>-1.210321e+00</td>\n",
              "      <td>-2.229174e-01</td>\n",
              "      <td>2.798884</td>\n",
              "      <td>-0.173548</td>\n",
              "    </tr>\n",
              "    <tr>\n",
              "      <th>sqft_lot15</th>\n",
              "      <td>0.089479</td>\n",
              "      <td>0.029195</td>\n",
              "      <td>8.274824e-04</td>\n",
              "      <td>-1.358219</td>\n",
              "      <td>0.102472</td>\n",
              "      <td>-0.025934</td>\n",
              "      <td>0.009850</td>\n",
              "      <td>-0.010423</td>\n",
              "      <td>0.083572</td>\n",
              "      <td>-1.908371e-01</td>\n",
              "      <td>-9.450669e-03</td>\n",
              "      <td>-0.173548</td>\n",
              "      <td>2.006158</td>\n",
              "    </tr>\n",
              "  </tbody>\n",
              "</table>\n",
              "</div>"
            ],
            "text/plain": [
              "               bedrooms  bathrooms  ...  sqft_living15  sqft_lot15\n",
              "bedrooms       1.614990  -0.248693  ...      -0.023470    0.089479\n",
              "bathrooms     -0.248693   2.064532  ...       0.058031    0.029195\n",
              "sqft_living   -1.385936  -0.552019  ...      -0.460721    0.000162\n",
              "sqft_lot       0.043923  -0.026621  ...       0.106750   -1.358219\n",
              "floors         0.116174  -0.695880  ...       0.290171    0.102472\n",
              "waterfront     0.059275   0.018537  ...       0.052979   -0.025934\n",
              "view           0.115063   0.015589  ...      -0.246968    0.009850\n",
              "condition     -0.067099   0.042754  ...       0.065028   -0.010423\n",
              "grade          0.295955  -0.258308  ...      -0.785131    0.083572\n",
              "sqft_above     0.275528  -0.135952  ...      -1.208773   -0.190220\n",
              "sqft_basement  0.169546  -0.306002  ...      -0.222061   -0.009109\n",
              "sqft_living15 -0.023470   0.058031  ...       2.798884   -0.173548\n",
              "sqft_lot15     0.089479   0.029195  ...      -0.173548    2.006158\n",
              "\n",
              "[13 rows x 13 columns]"
            ]
          },
          "metadata": {
            "tags": []
          },
          "execution_count": 199
        }
      ]
    },
    {
      "cell_type": "markdown",
      "metadata": {
        "id": "-8ZOWGTUPAdp"
      },
      "source": [
        "Grade has the highest VIF of 2.942 so we will remove it."
      ]
    },
    {
      "cell_type": "code",
      "metadata": {
        "colab": {
          "base_uri": "https://localhost:8080/",
          "height": 428
        },
        "id": "oTtVRUHi8EuE",
        "outputId": "18f3ff81-3ac4-4648-c884-e539ff503791"
      },
      "source": [
        "# Getting the VIFs of the Independent variables without variable grade\n",
        "rev = ind.drop(columns=['grade'])\n",
        "\n",
        "correlations = rev.corr()\n",
        "pd.DataFrame(np.linalg.inv(correlations.values), index = correlations.index, columns=correlations.columns)"
      ],
      "execution_count": 200,
      "outputs": [
        {
          "output_type": "execute_result",
          "data": {
            "text/html": [
              "<div>\n",
              "<style scoped>\n",
              "    .dataframe tbody tr th:only-of-type {\n",
              "        vertical-align: middle;\n",
              "    }\n",
              "\n",
              "    .dataframe tbody tr th {\n",
              "        vertical-align: top;\n",
              "    }\n",
              "\n",
              "    .dataframe thead th {\n",
              "        text-align: right;\n",
              "    }\n",
              "</style>\n",
              "<table border=\"1\" class=\"dataframe\">\n",
              "  <thead>\n",
              "    <tr style=\"text-align: right;\">\n",
              "      <th></th>\n",
              "      <th>bedrooms</th>\n",
              "      <th>bathrooms</th>\n",
              "      <th>sqft_living</th>\n",
              "      <th>sqft_lot</th>\n",
              "      <th>floors</th>\n",
              "      <th>waterfront</th>\n",
              "      <th>view</th>\n",
              "      <th>condition</th>\n",
              "      <th>sqft_above</th>\n",
              "      <th>sqft_basement</th>\n",
              "      <th>sqft_living15</th>\n",
              "      <th>sqft_lot15</th>\n",
              "    </tr>\n",
              "  </thead>\n",
              "  <tbody>\n",
              "    <tr>\n",
              "      <th>bedrooms</th>\n",
              "      <td>1.585219</td>\n",
              "      <td>-0.222709</td>\n",
              "      <td>-1.234154e+00</td>\n",
              "      <td>0.043911</td>\n",
              "      <td>0.161923</td>\n",
              "      <td>0.057040</td>\n",
              "      <td>0.128709</td>\n",
              "      <td>-0.074247</td>\n",
              "      <td>2.754919e-01</td>\n",
              "      <td>1.442827e-01</td>\n",
              "      <td>0.055509</td>\n",
              "      <td>0.081072</td>\n",
              "    </tr>\n",
              "    <tr>\n",
              "      <th>bathrooms</th>\n",
              "      <td>-0.222709</td>\n",
              "      <td>2.041853</td>\n",
              "      <td>-6.858759e-01</td>\n",
              "      <td>-0.026610</td>\n",
              "      <td>-0.735810</td>\n",
              "      <td>0.020488</td>\n",
              "      <td>0.003680</td>\n",
              "      <td>0.048993</td>\n",
              "      <td>-1.350243e-01</td>\n",
              "      <td>-2.849850e-01</td>\n",
              "      <td>-0.010902</td>\n",
              "      <td>0.036533</td>\n",
              "    </tr>\n",
              "    <tr>\n",
              "      <th>sqft_living</th>\n",
              "      <td>-1.233276</td>\n",
              "      <td>-0.685207</td>\n",
              "      <td>-1.577306e+13</td>\n",
              "      <td>-0.079970</td>\n",
              "      <td>0.664998</td>\n",
              "      <td>0.021562</td>\n",
              "      <td>-0.749008</td>\n",
              "      <td>0.289031</td>\n",
              "      <td>1.462760e+13</td>\n",
              "      <td>8.095468e+12</td>\n",
              "      <td>-0.867881</td>\n",
              "      <td>0.043066</td>\n",
              "    </tr>\n",
              "    <tr>\n",
              "      <th>sqft_lot</th>\n",
              "      <td>0.043911</td>\n",
              "      <td>-0.026610</td>\n",
              "      <td>-8.046702e-02</td>\n",
              "      <td>1.975024</td>\n",
              "      <td>0.084918</td>\n",
              "      <td>0.025699</td>\n",
              "      <td>-0.049765</td>\n",
              "      <td>0.018432</td>\n",
              "      <td>-1.308909e-01</td>\n",
              "      <td>2.082201e-02</td>\n",
              "      <td>0.106783</td>\n",
              "      <td>-1.358223</td>\n",
              "    </tr>\n",
              "    <tr>\n",
              "      <th>floors</th>\n",
              "      <td>0.161923</td>\n",
              "      <td>-0.735810</td>\n",
              "      <td>6.653449e-01</td>\n",
              "      <td>0.084918</td>\n",
              "      <td>1.836054</td>\n",
              "      <td>-0.008765</td>\n",
              "      <td>-0.014537</td>\n",
              "      <td>0.273765</td>\n",
              "      <td>-1.272697e+00</td>\n",
              "      <td>9.034319e-02</td>\n",
              "      <td>0.168804</td>\n",
              "      <td>0.115390</td>\n",
              "    </tr>\n",
              "    <tr>\n",
              "      <th>waterfront</th>\n",
              "      <td>0.057040</td>\n",
              "      <td>0.020488</td>\n",
              "      <td>2.150301e-02</td>\n",
              "      <td>0.025699</td>\n",
              "      <td>-0.008765</td>\n",
              "      <td>1.183792</td>\n",
              "      <td>-0.472090</td>\n",
              "      <td>-0.003684</td>\n",
              "      <td>-9.796376e-02</td>\n",
              "      <td>-7.282677e-03</td>\n",
              "      <td>0.058907</td>\n",
              "      <td>-0.026565</td>\n",
              "    </tr>\n",
              "    <tr>\n",
              "      <th>view</th>\n",
              "      <td>0.128709</td>\n",
              "      <td>0.003680</td>\n",
              "      <td>-7.492062e-01</td>\n",
              "      <td>-0.049765</td>\n",
              "      <td>-0.014537</td>\n",
              "      <td>-0.472090</td>\n",
              "      <td>1.338052</td>\n",
              "      <td>-0.041052</td>\n",
              "      <td>6.532436e-01</td>\n",
              "      <td>7.922986e-02</td>\n",
              "      <td>-0.283168</td>\n",
              "      <td>0.013703</td>\n",
              "    </tr>\n",
              "    <tr>\n",
              "      <th>condition</th>\n",
              "      <td>-0.074247</td>\n",
              "      <td>0.048993</td>\n",
              "      <td>2.896244e-01</td>\n",
              "      <td>0.018432</td>\n",
              "      <td>0.273765</td>\n",
              "      <td>-0.003684</td>\n",
              "      <td>-0.041052</td>\n",
              "      <td>1.119610</td>\n",
              "      <td>-2.899226e-01</td>\n",
              "      <td>-2.749346e-01</td>\n",
              "      <td>0.083990</td>\n",
              "      <td>-0.012442</td>\n",
              "    </tr>\n",
              "    <tr>\n",
              "      <th>sqft_above</th>\n",
              "      <td>0.275831</td>\n",
              "      <td>-0.136266</td>\n",
              "      <td>1.462760e+13</td>\n",
              "      <td>-0.131117</td>\n",
              "      <td>-1.271223</td>\n",
              "      <td>-0.097990</td>\n",
              "      <td>0.652842</td>\n",
              "      <td>-0.289563</td>\n",
              "      <td>-1.356532e+13</td>\n",
              "      <td>-7.507563e+12</td>\n",
              "      <td>-1.207563</td>\n",
              "      <td>-0.189945</td>\n",
              "    </tr>\n",
              "    <tr>\n",
              "      <th>sqft_basement</th>\n",
              "      <td>0.145750</td>\n",
              "      <td>-0.285260</td>\n",
              "      <td>8.095468e+12</td>\n",
              "      <td>0.020605</td>\n",
              "      <td>0.090667</td>\n",
              "      <td>-0.007299</td>\n",
              "      <td>0.079078</td>\n",
              "      <td>-0.274717</td>\n",
              "      <td>-7.507563e+12</td>\n",
              "      <td>-4.154970e+12</td>\n",
              "      <td>-0.157820</td>\n",
              "      <td>-0.015724</td>\n",
              "    </tr>\n",
              "    <tr>\n",
              "      <th>sqft_living15</th>\n",
              "      <td>0.055509</td>\n",
              "      <td>-0.010902</td>\n",
              "      <td>-8.636699e-01</td>\n",
              "      <td>0.106783</td>\n",
              "      <td>0.168804</td>\n",
              "      <td>0.058907</td>\n",
              "      <td>-0.283168</td>\n",
              "      <td>0.083990</td>\n",
              "      <td>-1.211468e+00</td>\n",
              "      <td>-1.599809e-01</td>\n",
              "      <td>2.589361</td>\n",
              "      <td>-0.151246</td>\n",
              "    </tr>\n",
              "    <tr>\n",
              "      <th>sqft_lot15</th>\n",
              "      <td>0.081072</td>\n",
              "      <td>0.036533</td>\n",
              "      <td>4.375784e-02</td>\n",
              "      <td>-1.358223</td>\n",
              "      <td>0.115390</td>\n",
              "      <td>-0.026565</td>\n",
              "      <td>0.013703</td>\n",
              "      <td>-0.012442</td>\n",
              "      <td>-1.905868e-01</td>\n",
              "      <td>-1.607883e-02</td>\n",
              "      <td>-0.151246</td>\n",
              "      <td>2.003784</td>\n",
              "    </tr>\n",
              "  </tbody>\n",
              "</table>\n",
              "</div>"
            ],
            "text/plain": [
              "               bedrooms  bathrooms  ...  sqft_living15  sqft_lot15\n",
              "bedrooms       1.585219  -0.222709  ...       0.055509    0.081072\n",
              "bathrooms     -0.222709   2.041853  ...      -0.010902    0.036533\n",
              "sqft_living   -1.233276  -0.685207  ...      -0.867881    0.043066\n",
              "sqft_lot       0.043911  -0.026610  ...       0.106783   -1.358223\n",
              "floors         0.161923  -0.735810  ...       0.168804    0.115390\n",
              "waterfront     0.057040   0.020488  ...       0.058907   -0.026565\n",
              "view           0.128709   0.003680  ...      -0.283168    0.013703\n",
              "condition     -0.074247   0.048993  ...       0.083990   -0.012442\n",
              "sqft_above     0.275831  -0.136266  ...      -1.207563   -0.189945\n",
              "sqft_basement  0.145750  -0.285260  ...      -0.157820   -0.015724\n",
              "sqft_living15  0.055509  -0.010902  ...       2.589361   -0.151246\n",
              "sqft_lot15     0.081072   0.036533  ...      -0.151246    2.003784\n",
              "\n",
              "[12 rows x 12 columns]"
            ]
          },
          "metadata": {
            "tags": []
          },
          "execution_count": 200
        }
      ]
    },
    {
      "cell_type": "markdown",
      "metadata": {
        "id": "zZ93sgP6PjZY"
      },
      "source": [
        "All scores dropped, but the sqft_living15's dropped more hence this shows that grade and sqft_living15 were colinear."
      ]
    },
    {
      "cell_type": "code",
      "metadata": {
        "id": "TbV--0yWaxvO"
      },
      "source": [
        "prices.drop(['grade', 'sqft_living15'], axis = 1, inplace = True)"
      ],
      "execution_count": 260,
      "outputs": []
    },
    {
      "cell_type": "code",
      "metadata": {
        "colab": {
          "base_uri": "https://localhost:8080/",
          "height": 218
        },
        "id": "rTCMPmWJbFWT",
        "outputId": "1dd0a682-5bf6-44e9-932b-ab659caff427"
      },
      "source": [
        "prices.head()"
      ],
      "execution_count": 261,
      "outputs": [
        {
          "output_type": "execute_result",
          "data": {
            "text/html": [
              "<div>\n",
              "<style scoped>\n",
              "    .dataframe tbody tr th:only-of-type {\n",
              "        vertical-align: middle;\n",
              "    }\n",
              "\n",
              "    .dataframe tbody tr th {\n",
              "        vertical-align: top;\n",
              "    }\n",
              "\n",
              "    .dataframe thead th {\n",
              "        text-align: right;\n",
              "    }\n",
              "</style>\n",
              "<table border=\"1\" class=\"dataframe\">\n",
              "  <thead>\n",
              "    <tr style=\"text-align: right;\">\n",
              "      <th></th>\n",
              "      <th>price</th>\n",
              "      <th>bedrooms</th>\n",
              "      <th>bathrooms</th>\n",
              "      <th>sqft_living</th>\n",
              "      <th>sqft_lot</th>\n",
              "      <th>floors</th>\n",
              "      <th>waterfront</th>\n",
              "      <th>view</th>\n",
              "      <th>condition</th>\n",
              "      <th>sqft_above</th>\n",
              "      <th>sqft_basement</th>\n",
              "      <th>sqft_lot15</th>\n",
              "    </tr>\n",
              "  </thead>\n",
              "  <tbody>\n",
              "    <tr>\n",
              "      <th>0</th>\n",
              "      <td>221900.0</td>\n",
              "      <td>3</td>\n",
              "      <td>1</td>\n",
              "      <td>1180</td>\n",
              "      <td>5650</td>\n",
              "      <td>1</td>\n",
              "      <td>0</td>\n",
              "      <td>0</td>\n",
              "      <td>3</td>\n",
              "      <td>1180</td>\n",
              "      <td>0</td>\n",
              "      <td>5650</td>\n",
              "    </tr>\n",
              "    <tr>\n",
              "      <th>1</th>\n",
              "      <td>538000.0</td>\n",
              "      <td>3</td>\n",
              "      <td>2</td>\n",
              "      <td>2570</td>\n",
              "      <td>7242</td>\n",
              "      <td>2</td>\n",
              "      <td>0</td>\n",
              "      <td>0</td>\n",
              "      <td>3</td>\n",
              "      <td>2170</td>\n",
              "      <td>400</td>\n",
              "      <td>7639</td>\n",
              "    </tr>\n",
              "    <tr>\n",
              "      <th>2</th>\n",
              "      <td>180000.0</td>\n",
              "      <td>2</td>\n",
              "      <td>1</td>\n",
              "      <td>770</td>\n",
              "      <td>10000</td>\n",
              "      <td>1</td>\n",
              "      <td>0</td>\n",
              "      <td>0</td>\n",
              "      <td>3</td>\n",
              "      <td>770</td>\n",
              "      <td>0</td>\n",
              "      <td>8062</td>\n",
              "    </tr>\n",
              "    <tr>\n",
              "      <th>3</th>\n",
              "      <td>604000.0</td>\n",
              "      <td>4</td>\n",
              "      <td>3</td>\n",
              "      <td>1960</td>\n",
              "      <td>5000</td>\n",
              "      <td>1</td>\n",
              "      <td>0</td>\n",
              "      <td>0</td>\n",
              "      <td>5</td>\n",
              "      <td>1050</td>\n",
              "      <td>910</td>\n",
              "      <td>5000</td>\n",
              "    </tr>\n",
              "    <tr>\n",
              "      <th>4</th>\n",
              "      <td>510000.0</td>\n",
              "      <td>3</td>\n",
              "      <td>2</td>\n",
              "      <td>1680</td>\n",
              "      <td>8080</td>\n",
              "      <td>1</td>\n",
              "      <td>0</td>\n",
              "      <td>0</td>\n",
              "      <td>3</td>\n",
              "      <td>1680</td>\n",
              "      <td>0</td>\n",
              "      <td>7503</td>\n",
              "    </tr>\n",
              "  </tbody>\n",
              "</table>\n",
              "</div>"
            ],
            "text/plain": [
              "      price  bedrooms  bathrooms  ...  sqft_above  sqft_basement  sqft_lot15\n",
              "0  221900.0         3          1  ...        1180              0        5650\n",
              "1  538000.0         3          2  ...        2170            400        7639\n",
              "2  180000.0         2          1  ...         770              0        8062\n",
              "3  604000.0         4          3  ...        1050            910        5000\n",
              "4  510000.0         3          2  ...        1680              0        7503\n",
              "\n",
              "[5 rows x 12 columns]"
            ]
          },
          "metadata": {
            "tags": []
          },
          "execution_count": 261
        }
      ]
    },
    {
      "cell_type": "markdown",
      "metadata": {
        "id": "AUajLz030mTC"
      },
      "source": [
        "### Multiple Linear Regression"
      ]
    },
    {
      "cell_type": "code",
      "metadata": {
        "id": "zrahn4y-0qpj"
      },
      "source": [
        "# Importing libraries\n",
        "from sklearn.model_selection import train_test_split\n",
        "from sklearn.linear_model import LinearRegression\n",
        "from sklearn.model_selection import GridSearchCV\n",
        "from sklearn.metrics import mean_squared_error"
      ],
      "execution_count": 201,
      "outputs": []
    },
    {
      "cell_type": "code",
      "metadata": {
        "id": "Fj41jgVk1atQ",
        "colab": {
          "base_uri": "https://localhost:8080/"
        },
        "outputId": "9df177fc-8f8f-4750-f7a6-76627b99c9df"
      },
      "source": [
        "# Creating and fitting the model\n",
        "X = prices.drop(['price'], axis = 1).values\n",
        "y = prices['price'].values\n",
        "\n",
        "X_train, X_test, y_train, y_test = train_test_split(X, y, test_size=0.2, random_state=0)\n",
        "\n",
        "regressor = LinearRegression()\n",
        "regressor.fit(X_train, y_train)"
      ],
      "execution_count": 262,
      "outputs": [
        {
          "output_type": "execute_result",
          "data": {
            "text/plain": [
              "LinearRegression(copy_X=True, fit_intercept=True, n_jobs=None, normalize=False)"
            ]
          },
          "metadata": {
            "tags": []
          },
          "execution_count": 262
        }
      ]
    },
    {
      "cell_type": "code",
      "metadata": {
        "colab": {
          "base_uri": "https://localhost:8080/"
        },
        "id": "RZky8SlP3hV8",
        "outputId": "14cd6676-a961-42ef-de4e-927a525a25f4"
      },
      "source": [
        "# Finding the predictions for prices based on our model\n",
        "y_predict = regressor.predict(X_test)\n",
        "y_predict"
      ],
      "execution_count": 263,
      "outputs": [
        {
          "output_type": "execute_result",
          "data": {
            "text/plain": [
              "array([987591.89888526, 239892.08147907, 376793.61639435, ...,\n",
              "       478501.80169418, 343632.25564149, 552973.26169399])"
            ]
          },
          "metadata": {
            "tags": []
          },
          "execution_count": 263
        }
      ]
    },
    {
      "cell_type": "code",
      "metadata": {
        "colab": {
          "base_uri": "https://localhost:8080/"
        },
        "id": "xvFbcmk3P12e",
        "outputId": "bd86468d-a85e-447a-f2d7-528f1cddaa5d"
      },
      "source": [
        "# Finding the descibe of the predictions\n",
        "print(pd.DataFrame(y_predict).describe())"
      ],
      "execution_count": 264,
      "outputs": [
        {
          "output_type": "stream",
          "text": [
            "                  0\n",
            "count  4.149000e+03\n",
            "mean   5.220058e+05\n",
            "std    2.305032e+05\n",
            "min    1.502551e+03\n",
            "25%    3.652260e+05\n",
            "50%    4.686207e+05\n",
            "75%    6.272596e+05\n",
            "max    2.128991e+06\n"
          ],
          "name": "stdout"
        }
      ]
    },
    {
      "cell_type": "code",
      "metadata": {
        "colab": {
          "base_uri": "https://localhost:8080/"
        },
        "id": "m8okZ3IR3rD2",
        "outputId": "01b17ba9-9bb3-421c-aae2-9a86bf4b96cc"
      },
      "source": [
        "# Getting the MSE of the Multiple Linear Regression\n",
        "mse = mean_squared_error(y_test, regressor.predict(X_test))\n",
        "mse"
      ],
      "execution_count": 265,
      "outputs": [
        {
          "output_type": "execute_result",
          "data": {
            "text/plain": [
              "50895290624.77141"
            ]
          },
          "metadata": {
            "tags": []
          },
          "execution_count": 265
        }
      ]
    },
    {
      "cell_type": "code",
      "metadata": {
        "colab": {
          "base_uri": "https://localhost:8080/"
        },
        "id": "LIVB3Ul74vyl",
        "outputId": "75715206-aa49-4fa9-ce95-cb0e2c97fa49"
      },
      "source": [
        "# Getting the R2 score of the Multiple Linear Regression\n",
        "regressor.score(X_test, y_test)"
      ],
      "execution_count": 266,
      "outputs": [
        {
          "output_type": "execute_result",
          "data": {
            "text/plain": [
              "0.5342413166266315"
            ]
          },
          "metadata": {
            "tags": []
          },
          "execution_count": 266
        }
      ]
    },
    {
      "cell_type": "code",
      "metadata": {
        "colab": {
          "base_uri": "https://localhost:8080/"
        },
        "id": "hM3xlu4xYmRF",
        "outputId": "ed7533b2-9516-4b02-b6be-fb11a522c1f6"
      },
      "source": [
        "# Getting the coefficients of the Multiple Linear Regression\n",
        "coef_dict_baseline = {}\n",
        "for coef, feat in zip(regressor.coef_,prices.columns):\n",
        "    coef_dict_baseline[feat] = coef\n",
        "coef_dict_baseline"
      ],
      "execution_count": 267,
      "outputs": [
        {
          "output_type": "execute_result",
          "data": {
            "text/plain": [
              "{'bathrooms': 163.48796248381313,\n",
              " 'bedrooms': 21460.28284523677,\n",
              " 'condition': 90.00389262129738,\n",
              " 'floors': 435958.29181383393,\n",
              " 'price': -47773.25162481985,\n",
              " 'sqft_above': 73.48407006128741,\n",
              " 'sqft_basement': -0.6897493338092318,\n",
              " 'sqft_living': 0.012979097677089158,\n",
              " 'sqft_lot': 4546.695042910763,\n",
              " 'view': 47111.38490315269,\n",
              " 'waterfront': 72966.46991820289}"
            ]
          },
          "metadata": {
            "tags": []
          },
          "execution_count": 267
        }
      ]
    },
    {
      "cell_type": "markdown",
      "metadata": {
        "id": "Yps09S2t-D4E"
      },
      "source": [
        "Residual Test"
      ]
    },
    {
      "cell_type": "code",
      "metadata": {
        "colab": {
          "base_uri": "https://localhost:8080/"
        },
        "id": "BiLo3wGf-GAK",
        "outputId": "41c4fdf7-11d1-44e2-a4a5-a3ef68bbb4ad"
      },
      "source": [
        "# Getting the residuals of the Multiple Linear Regression\n",
        "residuals = np.subtract(y_predict, y_test)\n",
        "print(pd.DataFrame(residuals).describe())\n",
        "residuals.mean()"
      ],
      "execution_count": 268,
      "outputs": [
        {
          "output_type": "stream",
          "text": [
            "                  0\n",
            "count  4.149000e+03\n",
            "mean  -2.411175e+03\n",
            "std    2.256142e+05\n",
            "min   -2.890417e+06\n",
            "25%   -9.564551e+04\n",
            "50%    1.521131e+04\n",
            "75%    1.297421e+05\n",
            "max    1.110476e+06\n"
          ],
          "name": "stdout"
        },
        {
          "output_type": "execute_result",
          "data": {
            "text/plain": [
              "-2411.174562194564"
            ]
          },
          "metadata": {
            "tags": []
          },
          "execution_count": 268
        }
      ]
    },
    {
      "cell_type": "code",
      "metadata": {
        "colab": {
          "base_uri": "https://localhost:8080/",
          "height": 290
        },
        "id": "7qMNS2fA-Gae",
        "outputId": "48c17e55-f9a8-4d77-de4d-e0d9f0958ce0"
      },
      "source": [
        "# Plotting a residual plot\n",
        "import matplotlib.pyplot as plt\n",
        "\n",
        "plt.scatter(y_predict, residuals, color='black')\n",
        "plt.ylabel('residual')\n",
        "plt.xlabel('fitted values')\n",
        "plt.axhline(y= residuals.mean(), color='red', linewidth=1)\n",
        "plt.show()"
      ],
      "execution_count": 269,
      "outputs": [
        {
          "output_type": "display_data",
          "data": {
            "image/png": "[encoded data removed]",
            "text/plain": [
              "<Figure size 432x288 with 1 Axes>"
            ]
          },
          "metadata": {
            "tags": [],
            "needs_background": "light"
          }
        }
      ]
    },
    {
      "cell_type": "markdown",
      "metadata": {
        "id": "cmR1eI8ddNVB"
      },
      "source": [
        "The residuals are close to the mean which is very close to 0"
      ]
    },
    {
      "cell_type": "markdown",
      "metadata": {
        "id": "7bykp0HO-G2x"
      },
      "source": [
        "Heteroscedasticity"
      ]
    },
    {
      "cell_type": "code",
      "metadata": {
        "colab": {
          "base_uri": "https://localhost:8080/"
        },
        "id": "8-lC2uIs-Kq8",
        "outputId": "c236bdbe-e429-42fa-fe3e-520131a71198"
      },
      "source": [
        "# Testing for Heteroscedasticity of the Multiple Linear Regression\n",
        "import scipy as sp\n",
        "\n",
        "test_result, p_value = sp.stats.bartlett(y_predict, residuals)\n",
        "\n",
        "# To interpret the results we will compute a critical value of the chi squared distribution\n",
        "degree_of_freedom = len(y_predict)-1\n",
        "probability = 1 - p_value\n",
        "\n",
        "critical_value = sp.stats.chi2.ppf(probability, degree_of_freedom)\n",
        "\n",
        "print(test_result)\n",
        "\n",
        "if (test_result > critical_value):\n",
        "  print('the variances are unequal')\n",
        "else:\n",
        "  print('the variances are homogeneous')"
      ],
      "execution_count": 270,
      "outputs": [
        {
          "output_type": "stream",
          "text": [
            "1.9060946263793157\n",
            "the variances are homogeneous\n"
          ],
          "name": "stdout"
        }
      ]
    },
    {
      "cell_type": "markdown",
      "metadata": {
        "id": "CKoV9MCH1gqR"
      },
      "source": [
        "### Quantile Regression"
      ]
    },
    {
      "cell_type": "code",
      "metadata": {
        "id": "uZQgHEzg5_uo",
        "colab": {
          "base_uri": "https://localhost:8080/"
        },
        "outputId": "adfcd807-f179-49f2-ca24-3387ee9724f3"
      },
      "source": [
        "# Creating and fitting the model at 0.5 quantile\n",
        "X = prices.iloc[:, 1:10]\n",
        "y = prices.iloc[:, 0]\n",
        "\n",
        "import statsmodels.formula.api as smf\n",
        "\n",
        "mod = smf.quantreg('y ~ X', prices)\n",
        "res = mod.fit(q=.5)\n",
        "\n",
        "print(res.summary())"
      ],
      "execution_count": 273,
      "outputs": [
        {
          "output_type": "stream",
          "text": [
            "                         QuantReg Regression Results                          \n",
            "==============================================================================\n",
            "Dep. Variable:                      y   Pseudo R-squared:               0.2719\n",
            "Model:                       QuantReg   Bandwidth:                   2.955e+04\n",
            "Method:                 Least Squares   Sparsity:                    4.290e+05\n",
            "Date:                Sat, 21 Nov 2020   No. Observations:                20741\n",
            "Time:                        15:31:26   Df Residuals:                    20731\n",
            "                                        Df Model:                            9\n",
            "==============================================================================\n",
            "                 coef    std err          t      P>|t|      [0.025      0.975]\n",
            "------------------------------------------------------------------------------\n",
            "Intercept   1.232e+04   1.16e+04      1.064      0.287   -1.04e+04     3.5e+04\n",
            "X[0]       -4.992e+04   2362.797    -21.127      0.000   -5.45e+04   -4.53e+04\n",
            "X[1]        1.306e+04   3294.330      3.966      0.000    6607.660    1.95e+04\n",
            "X[2]         229.3854      4.426     51.829      0.000     220.710     238.060\n",
            "X[3]          -0.2048      0.038     -5.380      0.000      -0.279      -0.130\n",
            "X[4]        2.323e+04   3645.672      6.371      0.000    1.61e+04    3.04e+04\n",
            "X[5]        4.354e+05   2.01e+04     21.618      0.000    3.96e+05    4.75e+05\n",
            "X[6]        6.643e+04   2315.525     28.689      0.000    6.19e+04     7.1e+04\n",
            "X[7]        3.694e+04   2422.175     15.249      0.000    3.22e+04    4.17e+04\n",
            "X[8]          -5.7386      4.489     -1.278      0.201     -14.536       3.059\n",
            "==============================================================================\n",
            "\n",
            "The condition number is large, 5.79e+05. This might indicate that there are\n",
            "strong multicollinearity or other numerical problems.\n"
          ],
          "name": "stdout"
        }
      ]
    },
    {
      "cell_type": "code",
      "metadata": {
        "id": "kzG62zd26pQZ",
        "colab": {
          "base_uri": "https://localhost:8080/"
        },
        "outputId": "499068e1-d30b-45e1-fe3c-4a5d4c04e77a"
      },
      "source": [
        "# Getting coefficients in other quantiles.\n",
        "quantiles = np.arange(0.1,1,0.4) \n",
        " \n",
        "for qt in quantiles: \n",
        "\tres = mod.fit(q = qt)\n",
        " \n",
        "print(res.summary())"
      ],
      "execution_count": 274,
      "outputs": [
        {
          "output_type": "stream",
          "text": [
            "                         QuantReg Regression Results                          \n",
            "==============================================================================\n",
            "Dep. Variable:                      y   Pseudo R-squared:               0.3968\n",
            "Model:                       QuantReg   Bandwidth:                   2.723e+04\n",
            "Method:                 Least Squares   Sparsity:                    1.238e+06\n",
            "Date:                Sat, 21 Nov 2020   No. Observations:                20741\n",
            "Time:                        15:31:45   Df Residuals:                    20731\n",
            "                                        Df Model:                            9\n",
            "==============================================================================\n",
            "                 coef    std err          t      P>|t|      [0.025      0.975]\n",
            "------------------------------------------------------------------------------\n",
            "Intercept   4.655e+04    2.3e+04      2.023      0.043    1444.009    9.17e+04\n",
            "X[0]       -5.173e+04   4442.808    -11.644      0.000   -6.04e+04    -4.3e+04\n",
            "X[1]        7502.3669   5982.123      1.254      0.210   -4223.063    1.92e+04\n",
            "X[2]         321.0874      7.984     40.217      0.000     305.438     336.737\n",
            "X[3]          -0.2197      0.109     -2.019      0.044      -0.433      -0.006\n",
            "X[4]        1907.1183   7497.908      0.254      0.799   -1.28e+04    1.66e+04\n",
            "X[5]         8.26e+05   3.65e+04     22.626      0.000    7.54e+05    8.98e+05\n",
            "X[6]        1.041e+05   4117.632     25.283      0.000     9.6e+04    1.12e+05\n",
            "X[7]        5.158e+04   4478.335     11.519      0.000    4.28e+04    6.04e+04\n",
            "X[8]          16.1909      8.129      1.992      0.046       0.257      32.125\n",
            "==============================================================================\n",
            "\n",
            "The condition number is large, 5.79e+05. This might indicate that there are\n",
            "strong multicollinearity or other numerical problems.\n"
          ],
          "name": "stdout"
        }
      ]
    },
    {
      "cell_type": "markdown",
      "metadata": {
        "id": "1TTjDlBS6ARZ"
      },
      "source": [
        "### Ridge Regresssion"
      ]
    },
    {
      "cell_type": "code",
      "metadata": {
        "id": "NRYxreym80ZM"
      },
      "source": [
        "import numpy as np\n",
        "from sklearn.linear_model import Ridge\n",
        "from sklearn.metrics import mean_squared_error"
      ],
      "execution_count": 275,
      "outputs": []
    },
    {
      "cell_type": "code",
      "metadata": {
        "colab": {
          "base_uri": "https://localhost:8080/"
        },
        "id": "PC9fxArW9J-D",
        "outputId": "5a1d0e44-b955-49c7-c12f-e2955477b447"
      },
      "source": [
        "X = prices.drop(['price'], axis = 1)\n",
        "y = prices['price']\n",
        "\n",
        "X_train, X_test, y_train, y_test = train_test_split(X, y, test_size=0.2, random_state=0)\n",
        "\n",
        "ridge = Ridge(normalize=True)\n",
        "search = GridSearchCV(estimator=ridge,param_grid={'alpha':np.logspace(-4,4,8)},scoring='neg_mean_squared_error',n_jobs=1,refit=True,cv=10)\n",
        "\n",
        "search.fit(X,y)\n",
        "search.best_params_"
      ],
      "execution_count": 277,
      "outputs": [
        {
          "output_type": "execute_result",
          "data": {
            "text/plain": [
              "{'alpha': 0.019306977288832496}"
            ]
          },
          "metadata": {
            "tags": []
          },
          "execution_count": 277
        }
      ]
    },
    {
      "cell_type": "code",
      "metadata": {
        "colab": {
          "base_uri": "https://localhost:8080/"
        },
        "id": "o7L9fsdh_Srp",
        "outputId": "44b6a710-b362-4280-b380-377ecccebf34"
      },
      "source": [
        "# Fitting the model\n",
        "ridgeReg = Ridge(alpha=0.0193, normalize=True)\n",
        "\n",
        "ridgeReg.fit(X_train,y_train)\n",
        "\n",
        "r_pred = ridgeReg.predict(X_test)\n",
        "r_pred"
      ],
      "execution_count": 278,
      "outputs": [
        {
          "output_type": "execute_result",
          "data": {
            "text/plain": [
              "array([982062.88124867, 242836.90682382, 381266.09006951, ...,\n",
              "       478472.28061992, 344406.7636824 , 546661.44436216])"
            ]
          },
          "metadata": {
            "tags": []
          },
          "execution_count": 278
        }
      ]
    },
    {
      "cell_type": "code",
      "metadata": {
        "colab": {
          "base_uri": "https://localhost:8080/"
        },
        "id": "WWYtXkpYR7oO",
        "outputId": "06d4a7e9-184f-483d-9f01-f9c62640d72a"
      },
      "source": [
        "# Calculating the MSE\n",
        "mse = np.mean((r_pred - y_test)**2)\n",
        "mse"
      ],
      "execution_count": 279,
      "outputs": [
        {
          "output_type": "execute_result",
          "data": {
            "text/plain": [
              "50988246529.70703"
            ]
          },
          "metadata": {
            "tags": []
          },
          "execution_count": 279
        }
      ]
    },
    {
      "cell_type": "code",
      "metadata": {
        "colab": {
          "base_uri": "https://localhost:8080/"
        },
        "id": "b_0MVsw3-iNT",
        "outputId": "729ac013-b467-457a-8189-16d6796162e4"
      },
      "source": [
        " # Calculating the R2 score \n",
        " ridgeReg.score(X_test,y_test)"
      ],
      "execution_count": 280,
      "outputs": [
        {
          "output_type": "execute_result",
          "data": {
            "text/plain": [
              "0.5333906481391715"
            ]
          },
          "metadata": {
            "tags": []
          },
          "execution_count": 280
        }
      ]
    },
    {
      "cell_type": "code",
      "metadata": {
        "colab": {
          "base_uri": "https://localhost:8080/"
        },
        "id": "_SYmH8txZC2p",
        "outputId": "017c23c0-e050-41b9-aed8-8df428dcc1d2"
      },
      "source": [
        "# Getting the coefficients of the Ridge Regression\n",
        "coef_dict_baseline = {}\n",
        "for coef, feat in zip(ridgeReg.coef_,prices.columns):\n",
        "    coef_dict_baseline[feat] = coef\n",
        "coef_dict_baseline"
      ],
      "execution_count": 281,
      "outputs": [
        {
          "output_type": "execute_result",
          "data": {
            "text/plain": [
              "{'bathrooms': 129.2650573478812,\n",
              " 'bedrooms': 23267.215075083994,\n",
              " 'condition': 118.04348877271863,\n",
              " 'floors': 433006.10207818035,\n",
              " 'price': -44137.67129146484,\n",
              " 'sqft_above': 102.71412926508206,\n",
              " 'sqft_basement': -0.6407087346188081,\n",
              " 'sqft_living': 0.008143684104411308,\n",
              " 'sqft_lot': 5753.458250250503,\n",
              " 'view': 46110.007411593135,\n",
              " 'waterfront': 72760.85523793638}"
            ]
          },
          "metadata": {
            "tags": []
          },
          "execution_count": 281
        }
      ]
    },
    {
      "cell_type": "markdown",
      "metadata": {
        "id": "v2wyByJ58kB2"
      },
      "source": [
        "Residual"
      ]
    },
    {
      "cell_type": "code",
      "metadata": {
        "colab": {
          "base_uri": "https://localhost:8080/"
        },
        "id": "v5JsjEeZ8nRy",
        "outputId": "d1f5a1ec-3e42-43b5-8760-5b7878fa0809"
      },
      "source": [
        "# Getting the Residuals of the Ridge Regression\n",
        "residuals = np.subtract(r_pred, y_test)\n",
        "print(pd.DataFrame(residuals).describe())\n",
        "residuals.mean()"
      ],
      "execution_count": 282,
      "outputs": [
        {
          "output_type": "stream",
          "text": [
            "              price\n",
            "count  4.149000e+03\n",
            "mean  -2.417483e+03\n",
            "std    2.258200e+05\n",
            "min   -2.911982e+06\n",
            "25%   -9.489468e+04\n",
            "50%    1.565421e+04\n",
            "75%    1.310246e+05\n",
            "max    1.097665e+06\n"
          ],
          "name": "stdout"
        },
        {
          "output_type": "execute_result",
          "data": {
            "text/plain": [
              "-2417.4834037147416"
            ]
          },
          "metadata": {
            "tags": []
          },
          "execution_count": 282
        }
      ]
    },
    {
      "cell_type": "code",
      "metadata": {
        "colab": {
          "base_uri": "https://localhost:8080/",
          "height": 290
        },
        "id": "hlkj7e5l8o8P",
        "outputId": "df9a62f3-c90a-486c-c150-f8dfa506c0a7"
      },
      "source": [
        "# Plotting a residual plot\n",
        "import matplotlib.pyplot as plt\n",
        "\n",
        "plt.scatter(r_pred, residuals, color='black')\n",
        "plt.ylabel('residual')\n",
        "plt.xlabel('fitted values')\n",
        "plt.axhline(y= residuals.mean(), color='red', linewidth=1)\n",
        "plt.show()"
      ],
      "execution_count": 283,
      "outputs": [
        {
          "output_type": "display_data",
          "data": {
            "image/png": "[encoded data removed]",
            "text/plain": [
              "<Figure size 432x288 with 1 Axes>"
            ]
          },
          "metadata": {
            "tags": [],
            "needs_background": "light"
          }
        }
      ]
    },
    {
      "cell_type": "markdown",
      "metadata": {
        "id": "HUwapA_VdKOA"
      },
      "source": [
        "The residuals are close to the mean which is very close to 0"
      ]
    },
    {
      "cell_type": "markdown",
      "metadata": {
        "id": "FR-meV2N8eCj"
      },
      "source": [
        "Heteroscedasticity"
      ]
    },
    {
      "cell_type": "code",
      "metadata": {
        "id": "ouzMky5R8hDC",
        "colab": {
          "base_uri": "https://localhost:8080/"
        },
        "outputId": "3969f98b-060d-4d6f-9edd-726fdf909f08"
      },
      "source": [
        "# Testing for Heteroscedasticity\n",
        "import scipy as sp\n",
        "\n",
        "test_result, p_value = sp.stats.bartlett(r_pred, residuals)\n",
        "\n",
        "# To interpret the results we will compute a critical value of the chi squared distribution\n",
        "degree_of_freedom = len(r_pred)-1\n",
        "probability = 1 - p_value\n",
        "\n",
        "critical_value = sp.stats.chi2.ppf(probability, degree_of_freedom)\n",
        "\n",
        "print(test_result)\n",
        "\n",
        "if (test_result > critical_value):\n",
        "  print('the variances are unequal')\n",
        "else:\n",
        "  print('the variances are homogeneous')"
      ],
      "execution_count": 284,
      "outputs": [
        {
          "output_type": "stream",
          "text": [
            "0.35257701382178597\n",
            "the variances are homogeneous\n"
          ],
          "name": "stdout"
        }
      ]
    },
    {
      "cell_type": "markdown",
      "metadata": {
        "id": "jcsWQqxR803t"
      },
      "source": [
        "### Lasso Regression"
      ]
    },
    {
      "cell_type": "code",
      "metadata": {
        "id": "CasSl8xyAKnQ"
      },
      "source": [
        "from sklearn.linear_model import Lasso\n",
        "from sklearn.preprocessing import StandardScaler\n",
        "import numpy as np\n",
        "import warnings\n",
        "warnings.filterwarnings(\"ignore\")\n",
        "\n",
        "X = prices.drop(['price'], axis = 1)\n",
        "y = prices['price']\n",
        "\n",
        "# Scaling data \n",
        "scaler = StandardScaler()\n",
        "scaler.fit(X)\n",
        "X = scaler.transform(X)"
      ],
      "execution_count": 285,
      "outputs": []
    },
    {
      "cell_type": "code",
      "metadata": {
        "colab": {
          "base_uri": "https://localhost:8080/"
        },
        "id": "_rnCYAjwImR4",
        "outputId": "9257b75b-92e1-40da-ba35-90b138505dd6"
      },
      "source": [
        "# Finding the best parameters for the model\n",
        "X_train, X_test, y_train, y_test = train_test_split(X, y, test_size=0.2, random_state=0)\n",
        "\n",
        "lassoReg = Lasso(normalize=True)\n",
        "search = GridSearchCV(estimator=lassoReg,param_grid={'alpha':np.logspace(-4,4,8)},scoring='neg_mean_squared_error',n_jobs=1,refit=True,cv=10)\n",
        "\n",
        "search.fit(X,y)\n",
        "search.best_params_"
      ],
      "execution_count": 286,
      "outputs": [
        {
          "output_type": "execute_result",
          "data": {
            "text/plain": [
              "{'alpha': 3.727593720314938}"
            ]
          },
          "metadata": {
            "tags": []
          },
          "execution_count": 286
        }
      ]
    },
    {
      "cell_type": "code",
      "metadata": {
        "colab": {
          "base_uri": "https://localhost:8080/"
        },
        "id": "ilwOqDiXAnZn",
        "outputId": "d4bb1c4a-d8b0-43d0-a7e0-df44b6de2467"
      },
      "source": [
        "# Fitting the model\n",
        "lassoReg = Lasso(alpha=3.728, normalize=True)\n",
        "\n",
        "lassoReg.fit(X_train,y_train)\n",
        "\n",
        "l_pred = lassoReg.predict(X_test)\n",
        "l_pred"
      ],
      "execution_count": 287,
      "outputs": [
        {
          "output_type": "execute_result",
          "data": {
            "text/plain": [
              "array([986648.88212429, 241421.2548989 , 376223.48432276, ...,\n",
              "       478773.03178277, 344883.68320047, 552251.45082901])"
            ]
          },
          "metadata": {
            "tags": []
          },
          "execution_count": 287
        }
      ]
    },
    {
      "cell_type": "code",
      "metadata": {
        "colab": {
          "base_uri": "https://localhost:8080/"
        },
        "id": "x7EPGDfuoXUz",
        "outputId": "0b8614e9-79bf-48a0-e8e6-55ed455c5e36"
      },
      "source": [
        "# Calculating MSE\n",
        "mse = np.mean((l_pred - y_test)**2)\n",
        "mse"
      ],
      "execution_count": 288,
      "outputs": [
        {
          "output_type": "execute_result",
          "data": {
            "text/plain": [
              "50929409289.01588"
            ]
          },
          "metadata": {
            "tags": []
          },
          "execution_count": 288
        }
      ]
    },
    {
      "cell_type": "code",
      "metadata": {
        "colab": {
          "base_uri": "https://localhost:8080/"
        },
        "id": "6rBC3nNBArb6",
        "outputId": "0415af95-c082-489c-96db-51016c82f4d8"
      },
      "source": [
        "# Getting the R2 score of the Lasso Regression\n",
        "lassoReg.score(X_test,y_test)"
      ],
      "execution_count": 289,
      "outputs": [
        {
          "output_type": "execute_result",
          "data": {
            "text/plain": [
              "0.5339290860854184"
            ]
          },
          "metadata": {
            "tags": []
          },
          "execution_count": 289
        }
      ]
    },
    {
      "cell_type": "code",
      "metadata": {
        "colab": {
          "base_uri": "https://localhost:8080/"
        },
        "id": "bqv5y2w-ZFhO",
        "outputId": "6a270226-647b-4cff-9bc8-39975e770298"
      },
      "source": [
        "# Getting the coefficients of the Lasso Regression\n",
        "coef_dict_baseline = {}\n",
        "for coef, feat in zip(lassoReg.coef_,prices.columns):\n",
        "    coef_dict_baseline[feat] = coef\n",
        "coef_dict_baseline"
      ],
      "execution_count": 290,
      "outputs": [
        {
          "output_type": "execute_result",
          "data": {
            "text/plain": [
              "{'bathrooms': 194003.17036571784,\n",
              " 'bedrooms': 13501.542527954265,\n",
              " 'condition': 12157.223683541051,\n",
              " 'floors': 34731.572980817364,\n",
              " 'price': -36655.51123456992,\n",
              " 'sqft_above': 0.0,\n",
              " 'sqft_basement': -16565.945854171154,\n",
              " 'sqft_living': -0.0,\n",
              " 'sqft_lot': 2247.445482950029,\n",
              " 'view': 29898.65167665431,\n",
              " 'waterfront': 53480.296602113594}"
            ]
          },
          "metadata": {
            "tags": []
          },
          "execution_count": 290
        }
      ]
    },
    {
      "cell_type": "markdown",
      "metadata": {
        "id": "NLTabYO17j2N"
      },
      "source": [
        "Residuals"
      ]
    },
    {
      "cell_type": "code",
      "metadata": {
        "colab": {
          "base_uri": "https://localhost:8080/"
        },
        "id": "NSOifzfD7ayi",
        "outputId": "72c934cb-a278-406c-c5e3-29698ae0887d"
      },
      "source": [
        "# Getting the Residuals of the Lasso Regression\n",
        "residuals = np.subtract(l_pred, y_test)\n",
        "print(pd.DataFrame(residuals).describe())\n",
        "residuals.mean()"
      ],
      "execution_count": 291,
      "outputs": [
        {
          "output_type": "stream",
          "text": [
            "              price\n",
            "count  4.149000e+03\n",
            "mean  -2.419671e+03\n",
            "std    2.256897e+05\n",
            "min   -2.895544e+06\n",
            "25%   -9.576967e+04\n",
            "50%    1.539826e+04\n",
            "75%    1.295505e+05\n",
            "max    1.103895e+06\n"
          ],
          "name": "stdout"
        },
        {
          "output_type": "execute_result",
          "data": {
            "text/plain": [
              "-2419.671377347199"
            ]
          },
          "metadata": {
            "tags": []
          },
          "execution_count": 291
        }
      ]
    },
    {
      "cell_type": "code",
      "metadata": {
        "colab": {
          "base_uri": "https://localhost:8080/",
          "height": 290
        },
        "id": "knRerQ3J7pRg",
        "outputId": "77fc5d0a-936b-4633-f56e-154fb14b0633"
      },
      "source": [
        "# Plotting a residual plot\n",
        "import matplotlib.pyplot as plt\n",
        "\n",
        "plt.scatter(l_pred, residuals, color='black')\n",
        "plt.ylabel('residual')\n",
        "plt.xlabel('fitted values')\n",
        "plt.axhline(y= residuals.mean(), color='red', linewidth=1)\n",
        "plt.show()"
      ],
      "execution_count": 292,
      "outputs": [
        {
          "output_type": "display_data",
          "data": {
            "image/png": "[encoded data removed]",
            "text/plain": [
              "<Figure size 432x288 with 1 Axes>"
            ]
          },
          "metadata": {
            "tags": [],
            "needs_background": "light"
          }
        }
      ]
    },
    {
      "cell_type": "markdown",
      "metadata": {
        "id": "q0xQ0pDcc4po"
      },
      "source": [
        "The residuals are close to the mean which is very close to 0"
      ]
    },
    {
      "cell_type": "markdown",
      "metadata": {
        "id": "kSCE-laH8Leu"
      },
      "source": [
        "Heteroscedasticity"
      ]
    },
    {
      "cell_type": "code",
      "metadata": {
        "colab": {
          "base_uri": "https://localhost:8080/"
        },
        "id": "7Q7GXROa8PgJ",
        "outputId": "15a8a2cd-4396-4988-862d-3d375d5ef628"
      },
      "source": [
        "# Testing for Heteroscedasticity\n",
        "import scipy as sp\n",
        "\n",
        "test_result, p_value = sp.stats.bartlett(l_pred, residuals)\n",
        "\n",
        "# To interpret the results we will compute a critical value of the chi squared distribution\n",
        "degree_of_freedom = len(l_pred)-1\n",
        "probability = 1 - p_value\n",
        "\n",
        "critical_value = sp.stats.chi2.ppf(probability, degree_of_freedom)\n",
        "\n",
        "print(test_result)\n",
        "\n",
        "if (test_result > critical_value):\n",
        "  print('the variances are unequal')\n",
        "else:\n",
        "  print('the variances are homogeneous')"
      ],
      "execution_count": 293,
      "outputs": [
        {
          "output_type": "stream",
          "text": [
            "1.2231278700499637\n",
            "the variances are homogeneous\n"
          ],
          "name": "stdout"
        }
      ]
    },
    {
      "cell_type": "markdown",
      "metadata": {
        "id": "RzyWJwRWALHa"
      },
      "source": [
        "### ElasticNet Regression"
      ]
    },
    {
      "cell_type": "code",
      "metadata": {
        "id": "K4RWf80I1hpo",
        "colab": {
          "base_uri": "https://localhost:8080/"
        },
        "outputId": "f1839496-0dac-4e02-df2f-198062e67f29"
      },
      "source": [
        "from sklearn.linear_model import ElasticNet\n",
        "import numpy as np\n",
        "X = prices.drop(['price'], axis = 1)\n",
        "y = prices['price']\n",
        "\n",
        "elastic=ElasticNet(normalize=True)\n",
        "search=GridSearchCV(estimator=elastic,param_grid={'alpha':np.logspace(-4,4,8),'l1_ratio':[.2,.4,.6,.8]},scoring='neg_mean_squared_error',n_jobs=1,refit=True,cv=10)\n",
        "\n",
        "# Getting the best parameters for the model\n",
        "search.fit(X,y)\n",
        "search.best_params_"
      ],
      "execution_count": 295,
      "outputs": [
        {
          "output_type": "execute_result",
          "data": {
            "text/plain": [
              "{'alpha': 0.0001, 'l1_ratio': 0.8}"
            ]
          },
          "metadata": {
            "tags": []
          },
          "execution_count": 295
        }
      ]
    },
    {
      "cell_type": "code",
      "metadata": {
        "id": "Px2-YhaZCwiw",
        "colab": {
          "base_uri": "https://localhost:8080/"
        },
        "outputId": "d635748b-c236-49ea-99dc-4f9fe3c1410e"
      },
      "source": [
        "# Fitting the model\n",
        "elastic=ElasticNet(normalize=True,alpha=0.0001,l1_ratio=0.8)\n",
        "elastic.fit(X,y)\n",
        "\n",
        "# Calculating the predictions\n",
        "y_pred = elastic.predict(X)\n",
        "y_pred"
      ],
      "execution_count": 296,
      "outputs": [
        {
          "output_type": "execute_result",
          "data": {
            "text/plain": [
              "array([310102.97946068, 613167.49223738, 244690.65864127, ...,\n",
              "       268799.20772076, 441475.25942475, 268936.64605516])"
            ]
          },
          "metadata": {
            "tags": []
          },
          "execution_count": 296
        }
      ]
    },
    {
      "cell_type": "code",
      "metadata": {
        "colab": {
          "base_uri": "https://localhost:8080/"
        },
        "id": "xEX5hEgXoqCj",
        "outputId": "e20b2986-2c0e-478e-d0df-349e3e529a75"
      },
      "source": [
        "# Getting the MSE of the Elastic Net Regression\n",
        "elastic_model=(mean_squared_error(y_true=y,y_pred=elastic.predict(X)))\n",
        "print(elastic_model)"
      ],
      "execution_count": 297,
      "outputs": [
        {
          "output_type": "stream",
          "text": [
            "49224091448.7146\n"
          ],
          "name": "stdout"
        }
      ]
    },
    {
      "cell_type": "code",
      "metadata": {
        "colab": {
          "base_uri": "https://localhost:8080/"
        },
        "id": "jugRbnEvaTAR",
        "outputId": "c370057a-a3f5-463c-efbd-d0c6a043dc39"
      },
      "source": [
        "# Getting the R2 score of the Elastic Net Regression\n",
        "elastic.score(X,y)"
      ],
      "execution_count": 298,
      "outputs": [
        {
          "output_type": "execute_result",
          "data": {
            "text/plain": [
              "0.496429708438468"
            ]
          },
          "metadata": {
            "tags": []
          },
          "execution_count": 298
        }
      ]
    },
    {
      "cell_type": "code",
      "metadata": {
        "colab": {
          "base_uri": "https://localhost:8080/"
        },
        "id": "p6WqeQnwZIT9",
        "outputId": "3bd096bc-6787-4939-dcf8-2bc3d4752494"
      },
      "source": [
        "# Getting the coefficients of the Elastic Net Regression\n",
        "coef_dict_baseline = {}\n",
        "for coef, feat in zip(elastic.coef_,prices.columns):\n",
        "    coef_dict_baseline[feat] = coef\n",
        "coef_dict_baseline"
      ],
      "execution_count": 299,
      "outputs": [
        {
          "output_type": "execute_result",
          "data": {
            "text/plain": [
              "{'bathrooms': 94.76912220059879,\n",
              " 'bedrooms': 38415.649677830246,\n",
              " 'condition': 85.42642395581314,\n",
              " 'floors': 381864.60940387554,\n",
              " 'price': -8865.943860065943,\n",
              " 'sqft_above': 80.85785458247854,\n",
              " 'sqft_basement': -0.2255964093497279,\n",
              " 'sqft_living': 0.03357420322096432,\n",
              " 'sqft_lot': 16399.742817463975,\n",
              " 'view': 30654.914376647783,\n",
              " 'waterfront': 64298.291413625804}"
            ]
          },
          "metadata": {
            "tags": []
          },
          "execution_count": 299
        }
      ]
    },
    {
      "cell_type": "markdown",
      "metadata": {
        "id": "6J1SoIC2ze1s"
      },
      "source": [
        "Residual"
      ]
    },
    {
      "cell_type": "code",
      "metadata": {
        "colab": {
          "base_uri": "https://localhost:8080/"
        },
        "id": "ScBCQUYnzeN0",
        "outputId": "6dbf40ea-3c7f-42d7-c5d5-d6055a73d5d6"
      },
      "source": [
        "# Getting the Residuals of Elastic Net Regression\n",
        "residuals = np.subtract(y_pred, y)\n",
        "print(pd.DataFrame(residuals).describe())\n",
        "residuals.mean()"
      ],
      "execution_count": 235,
      "outputs": [
        {
          "output_type": "stream",
          "text": [
            "              price\n",
            "count  2.074100e+04\n",
            "mean   6.140977e-11\n",
            "std    2.218704e+05\n",
            "min   -3.150788e+06\n",
            "25%   -9.088519e+04\n",
            "50%    2.612950e+04\n",
            "75%    1.381084e+05\n",
            "max    9.291472e+05\n"
          ],
          "name": "stdout"
        },
        {
          "output_type": "execute_result",
          "data": {
            "text/plain": [
              "6.140976983310803e-11"
            ]
          },
          "metadata": {
            "tags": []
          },
          "execution_count": 235
        }
      ]
    },
    {
      "cell_type": "code",
      "metadata": {
        "colab": {
          "base_uri": "https://localhost:8080/",
          "height": 290
        },
        "id": "5068rJsgzuF3",
        "outputId": "4df8029c-30dd-4075-c16e-c7c9e7fd606f"
      },
      "source": [
        "# Plotting a residual plot\n",
        "import matplotlib.pyplot as plt\n",
        "\n",
        "plt.scatter(y_pred, residuals, color='black')\n",
        "plt.ylabel('residual')\n",
        "plt.xlabel('fitted values')\n",
        "plt.axhline(y= residuals.mean(), color='red', linewidth=1)\n",
        "plt.show()"
      ],
      "execution_count": 236,
      "outputs": [
        {
          "output_type": "display_data",
          "data": {
            "image/png": "[encoded data removed]",
            "text/plain": [
              "<Figure size 432x288 with 1 Axes>"
            ]
          },
          "metadata": {
            "tags": [],
            "needs_background": "light"
          }
        }
      ]
    },
    {
      "cell_type": "markdown",
      "metadata": {
        "id": "yx534BeOdGH8"
      },
      "source": [
        "The residuals are close to the mean which is very close to 0"
      ]
    },
    {
      "cell_type": "markdown",
      "metadata": {
        "id": "oUbg9B5u6Ytj"
      },
      "source": [
        "Heteroscedasticity Test"
      ]
    },
    {
      "cell_type": "code",
      "metadata": {
        "colab": {
          "base_uri": "https://localhost:8080/"
        },
        "id": "GuCU0yhh6ZLq",
        "outputId": "8d7fed3a-f66f-4dd1-b460-1432b9ca75a7"
      },
      "source": [
        "# Testing for Heteroscedasticity\n",
        "import scipy as sp\n",
        "\n",
        "test_result, p_value = sp.stats.bartlett(y_pred, residuals)\n",
        "\n",
        "# To interpret the results we will compute a critical value of the chi squared distribution\n",
        "degree_of_freedom = len(y_pred)-1\n",
        "probability = 1 - p_value\n",
        "\n",
        "critical_value = sp.stats.chi2.ppf(probability, degree_of_freedom)\n",
        "\n",
        "print(test_result)\n",
        "\n",
        "if (test_result > critical_value):\n",
        "  print('the variances are unequal')\n",
        "else:\n",
        "  print('the variances are homogeneous')"
      ],
      "execution_count": 237,
      "outputs": [
        {
          "output_type": "stream",
          "text": [
            "559.6336838974718\n",
            "the variances are homogeneous\n"
          ],
          "name": "stdout"
        }
      ]
    },
    {
      "cell_type": "markdown",
      "metadata": {
        "id": "NE90JvHRexJt"
      },
      "source": [
        "Observations.\n",
        "\n",
        "- The models all had moderate R2 scores. \n",
        "\n",
        "- The model with the lowest R2 score was Quantile Regression with 0.3968 which means only 39.68% of variations in prices were explained by the independent variables. Hence, this model was not a suitable model to help the company predict the prices of the houses accurately.\n",
        "\n",
        "- The model with the highest R2 score was Multiple Linear Regression with 0.5342 which means 53.42% of variations in price were explained by the independent variables. Hence, this model can help the company to predict the prices of the houses accurately.\n",
        "\n",
        "- Lasso, Ridge and Elastic Net Regression Models have 0.5339, 0.5334, and 0.4964 R2 scores respectively which were not quite as bad.\n",
        "\n",
        "- In Lasso, sqft_above and sqft_living coefficients were reduced to absolute zeros but the same variables were include in Elastic Net which means Lasso removed variables which contained information.\n",
        "\n",
        "- Quantile Regression model had a limitation because it did not consider all the independent variables since it left one out.\n",
        "\n",
        "- In Ridge, the magnititude of the coefficients were high this is a limitation with this type of regression because it does not really reduce the magnititude of the coefficients to zero.\n",
        "\n",
        "- The limitation of using Elastic Net is that it gives a small R2 score when there is a small set of feature like in our dataset. Elastic Net works best when there is a big dataset."
      ]
    },
    {
      "cell_type": "markdown",
      "metadata": {
        "id": "CagFhBtYmOu9"
      },
      "source": [
        "## 7. Challenging the Solution"
      ]
    },
    {
      "cell_type": "markdown",
      "metadata": {
        "id": "LqKJtM7EoI23"
      },
      "source": [
        "The waterfront and view did not influence the prices of the houses. These variables ought to be removed and not considered when modelling the models. The data could have included the prices of the land the houses were bulit in because the could also have an influence on the prices of the houses."
      ]
    },
    {
      "cell_type": "markdown",
      "metadata": {
        "id": "gEHpIe0gmXjs"
      },
      "source": [
        "## 8. Follow up Questions"
      ]
    },
    {
      "cell_type": "markdown",
      "metadata": {
        "id": "QLOAbGnKmiIQ"
      },
      "source": [
        "a) Did we have the right data?"
      ]
    },
    {
      "cell_type": "markdown",
      "metadata": {
        "id": "ZlttFVpgmwhP"
      },
      "source": [
        "Yes the data was right since it had prices of the houses and features of houses that influence how houses are priced."
      ]
    },
    {
      "cell_type": "markdown",
      "metadata": {
        "id": "OpHr1TDZmxOA"
      },
      "source": [
        "b) Do we need other data to answer our question?"
      ]
    },
    {
      "cell_type": "markdown",
      "metadata": {
        "id": "Wukuxs-roZg_"
      },
      "source": [
        "The data was enough to enable a model to be build from it."
      ]
    },
    {
      "cell_type": "markdown",
      "metadata": {
        "id": "5iQbNRWeoaSO"
      },
      "source": [
        "c) Did we have the right question?"
      ]
    },
    {
      "cell_type": "markdown",
      "metadata": {
        "id": "iFivDflPojLO"
      },
      "source": [
        "The question was right according to the dataset being investigated."
      ]
    }
  ]
}